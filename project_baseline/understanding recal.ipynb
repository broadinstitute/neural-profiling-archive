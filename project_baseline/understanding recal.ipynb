{
 "cells": [
  {
   "cell_type": "code",
   "execution_count": 1,
   "metadata": {
    "collapsed": true
   },
   "outputs": [],
   "source": []
  },
  {
   "cell_type": "code",
   "execution_count": 5,
   "outputs": [],
   "source": [
    "import os\n",
    "import pandas as pd\n",
    "import numpy as np\n",
    "from sklearn import preprocessing\n",
    "import plotnine as gg\n",
    "from cytominer_eval import evaluate\n",
    "from pycytominer.cyto_utils import infer_cp_features"
   ],
   "metadata": {
    "collapsed": false,
    "pycharm": {
     "name": "#%%\n"
    }
   }
  },
  {
   "cell_type": "code",
   "execution_count": 6,
   "outputs": [],
   "source": [
    "data_dir = '2016_04_01_a549_48hr_batch1_consensus_modz_feature_select_dmso.csv.gz'"
   ],
   "metadata": {
    "collapsed": false,
    "pycharm": {
     "name": "#%%\n"
    }
   }
  },
  {
   "cell_type": "code",
   "execution_count": 7,
   "outputs": [],
   "source": [
    "df = pd.read_csv(data_dir)"
   ],
   "metadata": {
    "collapsed": false,
    "pycharm": {
     "name": "#%%\n"
    }
   }
  },
  {
   "cell_type": "code",
   "execution_count": 12,
   "outputs": [
    {
     "data": {
      "text/plain": "1571"
     },
     "execution_count": 12,
     "metadata": {},
     "output_type": "execute_result"
    }
   ],
   "source": [
    "features = infer_cp_features(df)\n",
    "meta_features = infer_cp_features(df, metadata=True)\n",
    "len(df.Metadata_broad_sample.unique())"
   ],
   "metadata": {
    "collapsed": false,
    "pycharm": {
     "name": "#%%\n"
    }
   }
  },
  {
   "cell_type": "code",
   "execution_count": 13,
   "outputs": [
    {
     "name": "stdout",
     "output_type": "stream",
     "text": [
      "['glucocorticoid receptor antagonist', 'calmodulin antagonist']\n"
     ]
    }
   ],
   "source": [
    "ls = df.Metadata_moa.unique()[:2].tolist()\n",
    "print(ls)\n",
    "selected_moa= df.query(\"Metadata_moa==@ls\")"
   ],
   "metadata": {
    "collapsed": false,
    "pycharm": {
     "name": "#%%\n"
    }
   }
  },
  {
   "cell_type": "code",
   "execution_count": 14,
   "outputs": [],
   "source": [
    "precision_recall_at_k = []\n",
    "\n",
    "for k in [2, 10]:\n",
    "    precision_recall_results = evaluate(\n",
    "        profiles=selected_moa,\n",
    "        features=features,\n",
    "        meta_features=meta_features,\n",
    "        replicate_groups=[\"Metadata_moa\"],\n",
    "        operation=\"precision_recall\",\n",
    "        similarity_metric=\"pearson\",\n",
    "        precision_recall_k=k\n",
    "    )\n",
    "    precision_recall_at_k.append(precision_recall_results)"
   ],
   "metadata": {
    "collapsed": false,
    "pycharm": {
     "name": "#%%\n"
    }
   }
  },
  {
   "cell_type": "code",
   "execution_count": 15,
   "outputs": [
    {
     "name": "stdout",
     "output_type": "stream",
     "text": [
      "(4, 4)\n"
     ]
    },
    {
     "data": {
      "text/plain": "                         Metadata_moa     k  precision    recall\n0               calmodulin antagonist   2.0        0.0  0.000000\n1  glucocorticoid receptor antagonist   2.0        0.0  0.000000\n2               calmodulin antagonist  10.0        0.4  0.030303\n3  glucocorticoid receptor antagonist  10.0        0.2  0.066667",
      "text/html": "<div>\n<style scoped>\n    .dataframe tbody tr th:only-of-type {\n        vertical-align: middle;\n    }\n\n    .dataframe tbody tr th {\n        vertical-align: top;\n    }\n\n    .dataframe thead th {\n        text-align: right;\n    }\n</style>\n<table border=\"1\" class=\"dataframe\">\n  <thead>\n    <tr style=\"text-align: right;\">\n      <th></th>\n      <th>Metadata_moa</th>\n      <th>k</th>\n      <th>precision</th>\n      <th>recall</th>\n    </tr>\n  </thead>\n  <tbody>\n    <tr>\n      <th>0</th>\n      <td>calmodulin antagonist</td>\n      <td>2.0</td>\n      <td>0.0</td>\n      <td>0.000000</td>\n    </tr>\n    <tr>\n      <th>1</th>\n      <td>glucocorticoid receptor antagonist</td>\n      <td>2.0</td>\n      <td>0.0</td>\n      <td>0.000000</td>\n    </tr>\n    <tr>\n      <th>2</th>\n      <td>calmodulin antagonist</td>\n      <td>10.0</td>\n      <td>0.4</td>\n      <td>0.030303</td>\n    </tr>\n    <tr>\n      <th>3</th>\n      <td>glucocorticoid receptor antagonist</td>\n      <td>10.0</td>\n      <td>0.2</td>\n      <td>0.066667</td>\n    </tr>\n  </tbody>\n</table>\n</div>"
     },
     "execution_count": 15,
     "metadata": {},
     "output_type": "execute_result"
    }
   ],
   "source": [
    "df_res_1 = pd.concat(precision_recall_at_k).reset_index(drop=True)\n",
    "print(df_res_1.shape)\n",
    "df_res_1.head()"
   ],
   "metadata": {
    "collapsed": false,
    "pycharm": {
     "name": "#%%\n"
    }
   }
  },
  {
   "cell_type": "code",
   "execution_count": 16,
   "outputs": [
    {
     "data": {
      "text/plain": "[[2.0, 0.0, 0.0], [10.0, 0.30000000000000004, 0.048484848484848485]]"
     },
     "execution_count": 16,
     "metadata": {},
     "output_type": "execute_result"
    }
   ],
   "source": [
    "pr_av = []\n",
    "for k in df_res_1.k.unique():\n",
    "    pr_av.append(df_res_1.query(\"k==@k\").mean().tolist())\n",
    "pr_av"
   ],
   "metadata": {
    "collapsed": false,
    "pycharm": {
     "name": "#%%\n"
    }
   }
  },
  {
   "cell_type": "code",
   "execution_count": null,
   "outputs": [],
   "source": [],
   "metadata": {
    "collapsed": false,
    "pycharm": {
     "name": "#%%\n"
    }
   }
  }
 ],
 "metadata": {
  "kernelspec": {
   "name": "pycharm-f57c4e3b",
   "language": "python",
   "display_name": "PyCharm (git)"
  },
  "language_info": {
   "codemirror_mode": {
    "name": "ipython",
    "version": 2
   },
   "file_extension": ".py",
   "mimetype": "text/x-python",
   "name": "python",
   "nbconvert_exporter": "python",
   "pygments_lexer": "ipython2",
   "version": "2.7.6"
  }
 },
 "nbformat": 4,
 "nbformat_minor": 0
}