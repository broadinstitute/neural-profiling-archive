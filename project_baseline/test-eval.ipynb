{
 "cells": [
  {
   "cell_type": "markdown",
   "source": [
    "Week 2.\n",
    "Attempt at reading in L5 Consesnus Lincs data and applying Metrics to it.\n",
    "\n",
    "Most content is copied from the cyto-eval demo notebook. Thanks Greg!"
   ],
   "metadata": {
    "collapsed": false
   }
  },
  {
   "cell_type": "code",
   "execution_count": 9,
   "outputs": [],
   "source": [
    "import os\n",
    "import pandas as pd\n",
    "import numpy as np\n",
    "from sklearn import preprocessing\n",
    "import plotnine as gg\n",
    "from cytominer_eval import evaluate\n",
    "from pycytominer.cyto_utils import infer_cp_features"
   ],
   "metadata": {
    "collapsed": false,
    "pycharm": {
     "name": "#%%\n"
    }
   }
  },
  {
   "cell_type": "markdown",
   "source": [
    "## Load data"
   ],
   "metadata": {
    "collapsed": false
   }
  },
  {
   "cell_type": "code",
   "execution_count": 2,
   "outputs": [],
   "source": [
    "data_dir = '2016_04_01_a549_48hr_batch1_consensus_modz_feature_select_dmso.csv.gz'"
   ],
   "metadata": {
    "collapsed": false,
    "pycharm": {
     "name": "#%%\n"
    }
   }
  },
  {
   "cell_type": "code",
   "execution_count": 4,
   "outputs": [],
   "source": [
    "df = pd.read_csv(data_dir)"
   ],
   "metadata": {
    "collapsed": false,
    "pycharm": {
     "name": "#%%\n"
    }
   }
  },
  {
   "cell_type": "code",
   "execution_count": 16,
   "outputs": [
    {
     "name": "stdout",
     "output_type": "stream",
     "text": [
      "(10752, 528)\n"
     ]
    },
    {
     "data": {
      "text/plain": "  Metadata_Plate_Map_Name Metadata_cell_id   Metadata_broad_sample  \\\n0       C-7161-01-LM6-001             A549  BRD-A25234499-001-18-3   \n1       C-7161-01-LM6-001             A549  BRD-A25234499-001-18-3   \n2       C-7161-01-LM6-001             A549  BRD-A25234499-001-18-3   \n3       C-7161-01-LM6-001             A549  BRD-A25234499-001-18-3   \n4       C-7161-01-LM6-001             A549  BRD-A25234499-001-18-3   \n\n  Metadata_pert_well  Metadata_mmoles_per_liter  Metadata_dose_recode  \\\n0                B13                   10.00000                     6   \n1                B14                    3.33330                     5   \n2                B15                    1.11110                     4   \n3                B16                    0.37037                     3   \n4                B17                    0.12346                     2   \n\n  Metadata_time_point                        Metadata_moa  Metadata_target  \\\n0                 48H  glucocorticoid receptor antagonist  CYP11A1|CYP19A1   \n1                 48H  glucocorticoid receptor antagonist  CYP11A1|CYP19A1   \n2                 48H  glucocorticoid receptor antagonist  CYP11A1|CYP19A1   \n3                 48H  glucocorticoid receptor antagonist  CYP11A1|CYP19A1   \n4                 48H  glucocorticoid receptor antagonist  CYP11A1|CYP19A1   \n\n   Cells_AreaShape_Area  ...  Nuclei_Texture_InverseDifferenceMoment_RNA_10_0  \\\n0              0.344670  ...                                        -0.302193   \n1              0.488995  ...                                        -0.498673   \n2              0.505526  ...                                        -0.250714   \n3              0.092069  ...                                        -0.338021   \n4              0.705527  ...                                        -0.277073   \n\n   Nuclei_Texture_InverseDifferenceMoment_RNA_20_0  \\\n0                                        -0.262680   \n1                                         0.301335   \n2                                        -0.020691   \n3                                         0.568476   \n4                                         0.775823   \n\n   Nuclei_Texture_SumAverage_DNA_20_0  Nuclei_Texture_SumAverage_Mito_5_0  \\\n0                           -0.643318                           -0.307924   \n1                           -0.161695                           -2.046360   \n2                            0.722674                           -0.759924   \n3                           -0.552219                           -0.770124   \n4                           -0.895731                           -0.762473   \n\n   Nuclei_Texture_SumAverage_RNA_20_0  Nuclei_Texture_SumEntropy_DNA_10_0  \\\n0                           -0.263607                           -0.771062   \n1                           -0.147213                           -0.230816   \n2                           -0.012077                           -0.270183   \n3                           -0.391011                           -0.667111   \n4                           -0.429907                           -0.214208   \n\n   Nuclei_Texture_SumEntropy_DNA_20_0  Nuclei_Texture_SumEntropy_DNA_5_0  \\\n0                           -0.622449                          -0.968180   \n1                           -0.157423                          -0.247806   \n2                           -0.134932                          -0.359148   \n3                           -0.517957                          -0.674251   \n4                           -0.198268                          -0.241933   \n\n   Nuclei_Texture_SumEntropy_RNA_5_0  Nuclei_Texture_Variance_RNA_10_0  \n0                           0.087257                          0.691044  \n1                           0.243377                         -1.196500  \n2                           0.276299                         -0.796096  \n3                           0.022910                         -0.944185  \n4                           0.026243                         -0.849128  \n\n[5 rows x 528 columns]",
      "text/html": "<div>\n<style scoped>\n    .dataframe tbody tr th:only-of-type {\n        vertical-align: middle;\n    }\n\n    .dataframe tbody tr th {\n        vertical-align: top;\n    }\n\n    .dataframe thead th {\n        text-align: right;\n    }\n</style>\n<table border=\"1\" class=\"dataframe\">\n  <thead>\n    <tr style=\"text-align: right;\">\n      <th></th>\n      <th>Metadata_Plate_Map_Name</th>\n      <th>Metadata_cell_id</th>\n      <th>Metadata_broad_sample</th>\n      <th>Metadata_pert_well</th>\n      <th>Metadata_mmoles_per_liter</th>\n      <th>Metadata_dose_recode</th>\n      <th>Metadata_time_point</th>\n      <th>Metadata_moa</th>\n      <th>Metadata_target</th>\n      <th>Cells_AreaShape_Area</th>\n      <th>...</th>\n      <th>Nuclei_Texture_InverseDifferenceMoment_RNA_10_0</th>\n      <th>Nuclei_Texture_InverseDifferenceMoment_RNA_20_0</th>\n      <th>Nuclei_Texture_SumAverage_DNA_20_0</th>\n      <th>Nuclei_Texture_SumAverage_Mito_5_0</th>\n      <th>Nuclei_Texture_SumAverage_RNA_20_0</th>\n      <th>Nuclei_Texture_SumEntropy_DNA_10_0</th>\n      <th>Nuclei_Texture_SumEntropy_DNA_20_0</th>\n      <th>Nuclei_Texture_SumEntropy_DNA_5_0</th>\n      <th>Nuclei_Texture_SumEntropy_RNA_5_0</th>\n      <th>Nuclei_Texture_Variance_RNA_10_0</th>\n    </tr>\n  </thead>\n  <tbody>\n    <tr>\n      <th>0</th>\n      <td>C-7161-01-LM6-001</td>\n      <td>A549</td>\n      <td>BRD-A25234499-001-18-3</td>\n      <td>B13</td>\n      <td>10.00000</td>\n      <td>6</td>\n      <td>48H</td>\n      <td>glucocorticoid receptor antagonist</td>\n      <td>CYP11A1|CYP19A1</td>\n      <td>0.344670</td>\n      <td>...</td>\n      <td>-0.302193</td>\n      <td>-0.262680</td>\n      <td>-0.643318</td>\n      <td>-0.307924</td>\n      <td>-0.263607</td>\n      <td>-0.771062</td>\n      <td>-0.622449</td>\n      <td>-0.968180</td>\n      <td>0.087257</td>\n      <td>0.691044</td>\n    </tr>\n    <tr>\n      <th>1</th>\n      <td>C-7161-01-LM6-001</td>\n      <td>A549</td>\n      <td>BRD-A25234499-001-18-3</td>\n      <td>B14</td>\n      <td>3.33330</td>\n      <td>5</td>\n      <td>48H</td>\n      <td>glucocorticoid receptor antagonist</td>\n      <td>CYP11A1|CYP19A1</td>\n      <td>0.488995</td>\n      <td>...</td>\n      <td>-0.498673</td>\n      <td>0.301335</td>\n      <td>-0.161695</td>\n      <td>-2.046360</td>\n      <td>-0.147213</td>\n      <td>-0.230816</td>\n      <td>-0.157423</td>\n      <td>-0.247806</td>\n      <td>0.243377</td>\n      <td>-1.196500</td>\n    </tr>\n    <tr>\n      <th>2</th>\n      <td>C-7161-01-LM6-001</td>\n      <td>A549</td>\n      <td>BRD-A25234499-001-18-3</td>\n      <td>B15</td>\n      <td>1.11110</td>\n      <td>4</td>\n      <td>48H</td>\n      <td>glucocorticoid receptor antagonist</td>\n      <td>CYP11A1|CYP19A1</td>\n      <td>0.505526</td>\n      <td>...</td>\n      <td>-0.250714</td>\n      <td>-0.020691</td>\n      <td>0.722674</td>\n      <td>-0.759924</td>\n      <td>-0.012077</td>\n      <td>-0.270183</td>\n      <td>-0.134932</td>\n      <td>-0.359148</td>\n      <td>0.276299</td>\n      <td>-0.796096</td>\n    </tr>\n    <tr>\n      <th>3</th>\n      <td>C-7161-01-LM6-001</td>\n      <td>A549</td>\n      <td>BRD-A25234499-001-18-3</td>\n      <td>B16</td>\n      <td>0.37037</td>\n      <td>3</td>\n      <td>48H</td>\n      <td>glucocorticoid receptor antagonist</td>\n      <td>CYP11A1|CYP19A1</td>\n      <td>0.092069</td>\n      <td>...</td>\n      <td>-0.338021</td>\n      <td>0.568476</td>\n      <td>-0.552219</td>\n      <td>-0.770124</td>\n      <td>-0.391011</td>\n      <td>-0.667111</td>\n      <td>-0.517957</td>\n      <td>-0.674251</td>\n      <td>0.022910</td>\n      <td>-0.944185</td>\n    </tr>\n    <tr>\n      <th>4</th>\n      <td>C-7161-01-LM6-001</td>\n      <td>A549</td>\n      <td>BRD-A25234499-001-18-3</td>\n      <td>B17</td>\n      <td>0.12346</td>\n      <td>2</td>\n      <td>48H</td>\n      <td>glucocorticoid receptor antagonist</td>\n      <td>CYP11A1|CYP19A1</td>\n      <td>0.705527</td>\n      <td>...</td>\n      <td>-0.277073</td>\n      <td>0.775823</td>\n      <td>-0.895731</td>\n      <td>-0.762473</td>\n      <td>-0.429907</td>\n      <td>-0.214208</td>\n      <td>-0.198268</td>\n      <td>-0.241933</td>\n      <td>0.026243</td>\n      <td>-0.849128</td>\n    </tr>\n  </tbody>\n</table>\n<p>5 rows × 528 columns</p>\n</div>"
     },
     "execution_count": 16,
     "metadata": {},
     "output_type": "execute_result"
    }
   ],
   "source": [
    "print(df.shape)\n",
    "#metadata_columns = [x for x in df.columns if (x.startswith(\"Metadata_\"))]\n",
    "#print(len(metadata_columns))\n",
    "df.head()"
   ],
   "metadata": {
    "collapsed": false,
    "pycharm": {
     "name": "#%%\n"
    }
   }
  },
  {
   "cell_type": "code",
   "execution_count": 35,
   "outputs": [
    {
     "data": {
      "text/plain": "1571"
     },
     "execution_count": 35,
     "metadata": {},
     "output_type": "execute_result"
    }
   ],
   "source": [
    "features = infer_cp_features(df)\n",
    "meta_features = infer_cp_features(df, metadata=True)\n",
    "len(df.Metadata_broad_sample.unique())"
   ],
   "metadata": {
    "collapsed": false,
    "pycharm": {
     "name": "#%%\n"
    }
   }
  },
  {
   "cell_type": "code",
   "execution_count": 20,
   "outputs": [
    {
     "data": {
      "text/plain": "602"
     },
     "execution_count": 20,
     "metadata": {},
     "output_type": "execute_result"
    }
   ],
   "source": [
    "moa_labels = df.Metadata_moa.unique()\n",
    "len(moa_labels)"
   ],
   "metadata": {
    "collapsed": false,
    "pycharm": {
     "name": "#%%\n"
    }
   }
  },
  {
   "cell_type": "markdown",
   "source": [
    "### Part 2: Replicate reproducibility\n",
    "\n",
    "`operation=\"precision_recall\"`\n",
    "\n",
    "To calculate precision recall for every perturbation, we first rank order all perturbations by pairwise correlations.\n",
    "We use a user-defined `k` as a threshold for calling hits.\n",
    "\n",
    "The operation is done for all moa ground truths"
   ],
   "metadata": {
    "collapsed": false,
    "pycharm": {
     "name": "#%% md\n"
    }
   }
  },
  {
   "cell_type": "code",
   "execution_count": 41,
   "outputs": [],
   "source": [
    "precision_recall_at_k = []\n",
    "\n",
    "for moa in moa_labels:\n",
    "    moa_df = df.query(\"Metadata_moa == @moa\")\n",
    "\n",
    "    for k in [2, 5, 10, 15, 25]:\n",
    "\n",
    "        precision_recall_results = evaluate(\n",
    "            profiles=moa_df,\n",
    "            features=features,\n",
    "            meta_features=meta_features,\n",
    "            replicate_groups=[\"Metadata_moa\", \"Metadata_broad_sample\"],\n",
    "            operation=\"precision_recall\",\n",
    "            similarity_metric=\"pearson\",\n",
    "            precision_recall_k=k\n",
    "        ).assign(moa=moa)\n",
    "\n",
    "        precision_recall_at_k.append(precision_recall_results)"
   ],
   "metadata": {
    "collapsed": false,
    "pycharm": {
     "name": "#%%\n"
    }
   }
  },
  {
   "cell_type": "code",
   "execution_count": 42,
   "outputs": [
    {
     "name": "stdout",
     "output_type": "stream",
     "text": [
      "(7855, 6)\n"
     ]
    },
    {
     "data": {
      "text/plain": "                         Metadata_moa   Metadata_broad_sample     k  \\\n0  glucocorticoid receptor antagonist  BRD-A25234499-001-18-3   2.0   \n1  glucocorticoid receptor antagonist  BRD-A25234499-001-18-3   5.0   \n2  glucocorticoid receptor antagonist  BRD-A25234499-001-18-3  10.0   \n3  glucocorticoid receptor antagonist  BRD-A25234499-001-18-3  15.0   \n4  glucocorticoid receptor antagonist  BRD-A25234499-001-18-3  25.0   \n\n   precision    recall                                 moa  \n0        1.0  0.066667  glucocorticoid receptor antagonist  \n1        1.0  0.166667  glucocorticoid receptor antagonist  \n2        1.0  0.333333  glucocorticoid receptor antagonist  \n3        1.0  0.500000  glucocorticoid receptor antagonist  \n4        1.0  0.833333  glucocorticoid receptor antagonist  ",
      "text/html": "<div>\n<style scoped>\n    .dataframe tbody tr th:only-of-type {\n        vertical-align: middle;\n    }\n\n    .dataframe tbody tr th {\n        vertical-align: top;\n    }\n\n    .dataframe thead th {\n        text-align: right;\n    }\n</style>\n<table border=\"1\" class=\"dataframe\">\n  <thead>\n    <tr style=\"text-align: right;\">\n      <th></th>\n      <th>Metadata_moa</th>\n      <th>Metadata_broad_sample</th>\n      <th>k</th>\n      <th>precision</th>\n      <th>recall</th>\n      <th>moa</th>\n    </tr>\n  </thead>\n  <tbody>\n    <tr>\n      <th>0</th>\n      <td>glucocorticoid receptor antagonist</td>\n      <td>BRD-A25234499-001-18-3</td>\n      <td>2.0</td>\n      <td>1.0</td>\n      <td>0.066667</td>\n      <td>glucocorticoid receptor antagonist</td>\n    </tr>\n    <tr>\n      <th>1</th>\n      <td>glucocorticoid receptor antagonist</td>\n      <td>BRD-A25234499-001-18-3</td>\n      <td>5.0</td>\n      <td>1.0</td>\n      <td>0.166667</td>\n      <td>glucocorticoid receptor antagonist</td>\n    </tr>\n    <tr>\n      <th>2</th>\n      <td>glucocorticoid receptor antagonist</td>\n      <td>BRD-A25234499-001-18-3</td>\n      <td>10.0</td>\n      <td>1.0</td>\n      <td>0.333333</td>\n      <td>glucocorticoid receptor antagonist</td>\n    </tr>\n    <tr>\n      <th>3</th>\n      <td>glucocorticoid receptor antagonist</td>\n      <td>BRD-A25234499-001-18-3</td>\n      <td>15.0</td>\n      <td>1.0</td>\n      <td>0.500000</td>\n      <td>glucocorticoid receptor antagonist</td>\n    </tr>\n    <tr>\n      <th>4</th>\n      <td>glucocorticoid receptor antagonist</td>\n      <td>BRD-A25234499-001-18-3</td>\n      <td>25.0</td>\n      <td>1.0</td>\n      <td>0.833333</td>\n      <td>glucocorticoid receptor antagonist</td>\n    </tr>\n  </tbody>\n</table>\n</div>"
     },
     "execution_count": 42,
     "metadata": {},
     "output_type": "execute_result"
    }
   ],
   "source": [
    "df_precision_recall_at_k = pd.concat(precision_recall_at_k).reset_index(drop=True)\n",
    "print(df_precision_recall_at_k.shape)\n",
    "df_precision_recall_at_k.head()"
   ],
   "metadata": {
    "collapsed": false,
    "pycharm": {
     "name": "#%%\n"
    }
   }
  },
  {
   "cell_type": "code",
   "execution_count": 49,
   "outputs": [],
   "source": [
    "df_res = df_precision_recall_at_k.copy()"
   ],
   "metadata": {
    "collapsed": false,
    "pycharm": {
     "name": "#%%\n"
    }
   }
  },
  {
   "cell_type": "code",
   "execution_count": 51,
   "outputs": [
    {
     "data": {
      "text/plain": "                         Metadata_moa   Metadata_broad_sample     k  \\\n0  glucocorticoid receptor antagonist  BRD-A25234499-001-18-3   2.0   \n1  glucocorticoid receptor antagonist  BRD-A25234499-001-18-3   5.0   \n2  glucocorticoid receptor antagonist  BRD-A25234499-001-18-3  10.0   \n3  glucocorticoid receptor antagonist  BRD-A25234499-001-18-3  15.0   \n4  glucocorticoid receptor antagonist  BRD-A25234499-001-18-3  25.0   \n\n   precision    recall                                 moa  \n0        1.0  0.066667  glucocorticoid receptor antagonist  \n1        1.0  0.166667  glucocorticoid receptor antagonist  \n2        1.0  0.333333  glucocorticoid receptor antagonist  \n3        1.0  0.500000  glucocorticoid receptor antagonist  \n4        1.0  0.833333  glucocorticoid receptor antagonist  ",
      "text/html": "<div>\n<style scoped>\n    .dataframe tbody tr th:only-of-type {\n        vertical-align: middle;\n    }\n\n    .dataframe tbody tr th {\n        vertical-align: top;\n    }\n\n    .dataframe thead th {\n        text-align: right;\n    }\n</style>\n<table border=\"1\" class=\"dataframe\">\n  <thead>\n    <tr style=\"text-align: right;\">\n      <th></th>\n      <th>Metadata_moa</th>\n      <th>Metadata_broad_sample</th>\n      <th>k</th>\n      <th>precision</th>\n      <th>recall</th>\n      <th>moa</th>\n    </tr>\n  </thead>\n  <tbody>\n    <tr>\n      <th>0</th>\n      <td>glucocorticoid receptor antagonist</td>\n      <td>BRD-A25234499-001-18-3</td>\n      <td>2.0</td>\n      <td>1.0</td>\n      <td>0.066667</td>\n      <td>glucocorticoid receptor antagonist</td>\n    </tr>\n    <tr>\n      <th>1</th>\n      <td>glucocorticoid receptor antagonist</td>\n      <td>BRD-A25234499-001-18-3</td>\n      <td>5.0</td>\n      <td>1.0</td>\n      <td>0.166667</td>\n      <td>glucocorticoid receptor antagonist</td>\n    </tr>\n    <tr>\n      <th>2</th>\n      <td>glucocorticoid receptor antagonist</td>\n      <td>BRD-A25234499-001-18-3</td>\n      <td>10.0</td>\n      <td>1.0</td>\n      <td>0.333333</td>\n      <td>glucocorticoid receptor antagonist</td>\n    </tr>\n    <tr>\n      <th>3</th>\n      <td>glucocorticoid receptor antagonist</td>\n      <td>BRD-A25234499-001-18-3</td>\n      <td>15.0</td>\n      <td>1.0</td>\n      <td>0.500000</td>\n      <td>glucocorticoid receptor antagonist</td>\n    </tr>\n    <tr>\n      <th>4</th>\n      <td>glucocorticoid receptor antagonist</td>\n      <td>BRD-A25234499-001-18-3</td>\n      <td>25.0</td>\n      <td>1.0</td>\n      <td>0.833333</td>\n      <td>glucocorticoid receptor antagonist</td>\n    </tr>\n  </tbody>\n</table>\n</div>"
     },
     "execution_count": 51,
     "metadata": {},
     "output_type": "execute_result"
    }
   ],
   "source": [
    "df_res.loc[df_res['Metadata_moa'] == \"glucocorticoid receptor antagonist\"]"
   ],
   "metadata": {
    "collapsed": false,
    "pycharm": {
     "name": "#%%\n"
    }
   }
  },
  {
   "cell_type": "code",
   "execution_count": 59,
   "outputs": [],
   "source": [
    "pr_av = []\n",
    "for k in df_res.k.unique():\n",
    "    pr_av.append(df_res.loc[df_res.k == k].mean().tolist())"
   ],
   "metadata": {
    "collapsed": false,
    "pycharm": {
     "name": "#%%\n"
    }
   }
  },
  {
   "cell_type": "code",
   "execution_count": 61,
   "outputs": [
    {
     "data": {
      "text/plain": "[[2.0, 0.5432845321451305, 0.03611289905871458],\n [5.0, 0.5437301082113304, 0.09032469194525412],\n [10.0, 0.5394653087205602, 0.17922778830367803],\n [15.0, 0.5311266709102482, 0.2646723656720743],\n [25.0, 0.5113430935709739, 0.42461307709333834]]"
     },
     "execution_count": 61,
     "metadata": {},
     "output_type": "execute_result"
    }
   ],
   "source": [
    "pr_av"
   ],
   "metadata": {
    "collapsed": false,
    "pycharm": {
     "name": "#%%\n"
    }
   }
  },
  {
   "cell_type": "markdown",
   "source": [
    "Using only one \"replicate_groups = broad sample\""
   ],
   "metadata": {
    "collapsed": false,
    "pycharm": {
     "name": "#%% md\n"
    }
   }
  },
  {
   "cell_type": "code",
   "execution_count": 63,
   "outputs": [],
   "source": [
    "precision_recall_at_k = []\n",
    "\n",
    "for moa in moa_labels:\n",
    "    moa_df = df.query(\"Metadata_moa == @moa\")\n",
    "\n",
    "    for k in [2, 10, 25]:\n",
    "\n",
    "        precision_recall_results = evaluate(\n",
    "            profiles=moa_df,\n",
    "            features=features,\n",
    "            meta_features=meta_features,\n",
    "            replicate_groups=[\"Metadata_broad_sample\"],\n",
    "            operation=\"precision_recall\",\n",
    "            similarity_metric=\"pearson\",\n",
    "            precision_recall_k=k\n",
    "        ).assign(moa=moa)\n",
    "\n",
    "        precision_recall_at_k.append(precision_recall_results)"
   ],
   "metadata": {
    "collapsed": false,
    "pycharm": {
     "name": "#%%\n"
    }
   }
  },
  {
   "cell_type": "code",
   "execution_count": 64,
   "outputs": [
    {
     "name": "stdout",
     "output_type": "stream",
     "text": [
      "(4713, 5)\n"
     ]
    },
    {
     "data": {
      "text/plain": "    Metadata_broad_sample     k  precision    recall  \\\n0  BRD-A25234499-001-18-3   2.0        1.0  0.066667   \n1  BRD-A25234499-001-18-3  10.0        1.0  0.333333   \n2  BRD-A25234499-001-18-3  25.0        1.0  0.833333   \n3  BRD-A26032986-050-02-1   2.0        1.0  0.066667   \n4  BRD-K44309363-003-02-1   2.0        1.0  0.066667   \n\n                                  moa  \n0  glucocorticoid receptor antagonist  \n1  glucocorticoid receptor antagonist  \n2  glucocorticoid receptor antagonist  \n3               calmodulin antagonist  \n4               calmodulin antagonist  ",
      "text/html": "<div>\n<style scoped>\n    .dataframe tbody tr th:only-of-type {\n        vertical-align: middle;\n    }\n\n    .dataframe tbody tr th {\n        vertical-align: top;\n    }\n\n    .dataframe thead th {\n        text-align: right;\n    }\n</style>\n<table border=\"1\" class=\"dataframe\">\n  <thead>\n    <tr style=\"text-align: right;\">\n      <th></th>\n      <th>Metadata_broad_sample</th>\n      <th>k</th>\n      <th>precision</th>\n      <th>recall</th>\n      <th>moa</th>\n    </tr>\n  </thead>\n  <tbody>\n    <tr>\n      <th>0</th>\n      <td>BRD-A25234499-001-18-3</td>\n      <td>2.0</td>\n      <td>1.0</td>\n      <td>0.066667</td>\n      <td>glucocorticoid receptor antagonist</td>\n    </tr>\n    <tr>\n      <th>1</th>\n      <td>BRD-A25234499-001-18-3</td>\n      <td>10.0</td>\n      <td>1.0</td>\n      <td>0.333333</td>\n      <td>glucocorticoid receptor antagonist</td>\n    </tr>\n    <tr>\n      <th>2</th>\n      <td>BRD-A25234499-001-18-3</td>\n      <td>25.0</td>\n      <td>1.0</td>\n      <td>0.833333</td>\n      <td>glucocorticoid receptor antagonist</td>\n    </tr>\n    <tr>\n      <th>3</th>\n      <td>BRD-A26032986-050-02-1</td>\n      <td>2.0</td>\n      <td>1.0</td>\n      <td>0.066667</td>\n      <td>calmodulin antagonist</td>\n    </tr>\n    <tr>\n      <th>4</th>\n      <td>BRD-K44309363-003-02-1</td>\n      <td>2.0</td>\n      <td>1.0</td>\n      <td>0.066667</td>\n      <td>calmodulin antagonist</td>\n    </tr>\n  </tbody>\n</table>\n</div>"
     },
     "execution_count": 64,
     "metadata": {},
     "output_type": "execute_result"
    }
   ],
   "source": [
    "df_res_1 = pd.concat(precision_recall_at_k).reset_index(drop=True)\n",
    "print(df_res_1.shape)\n",
    "df_res_1.head()"
   ],
   "metadata": {
    "collapsed": false,
    "pycharm": {
     "name": "#%%\n"
    }
   }
  },
  {
   "cell_type": "code",
   "execution_count": 69,
   "outputs": [
    {
     "data": {
      "text/plain": "[[2.0, 0.5432845321451305, 0.03611289905871458],\n [10.0, 0.5394653087205602, 0.17922778830367803],\n [25.0, 0.5113430935709739, 0.42461307709333834]]"
     },
     "execution_count": 69,
     "metadata": {},
     "output_type": "execute_result"
    }
   ],
   "source": [
    "pr_av = []\n",
    "for k in df_res_1.k.unique():\n",
    "    pr_av.append(df_res_1.query(\"k==@k\").mean().tolist())\n",
    "pr_av"
   ],
   "metadata": {
    "collapsed": false,
    "pycharm": {
     "name": "#%%\n"
    }
   }
  },
  {
   "cell_type": "markdown",
   "source": [
    "Using only one \"replicate_groups = MOA\""
   ],
   "metadata": {
    "collapsed": false
   }
  },
  {
   "cell_type": "code",
   "execution_count": 104,
   "outputs": [
    {
     "ename": "KeyboardInterrupt",
     "evalue": "",
     "output_type": "error",
     "traceback": [
      "\u001B[0;31m---------------------------------------------------------------------------\u001B[0m",
      "\u001B[0;31mKeyboardInterrupt\u001B[0m                         Traceback (most recent call last)",
      "\u001B[0;32m<ipython-input-104-09175302432e>\u001B[0m in \u001B[0;36m<module>\u001B[0;34m\u001B[0m\n\u001B[1;32m      6\u001B[0m     precision_recall_results = evaluate(\n\u001B[1;32m      7\u001B[0m         \u001B[0mprofiles\u001B[0m\u001B[0;34m=\u001B[0m\u001B[0mselected_moa\u001B[0m\u001B[0;34m,\u001B[0m\u001B[0;34m\u001B[0m\u001B[0;34m\u001B[0m\u001B[0m\n\u001B[0;32m----> 8\u001B[0;31m         \u001B[0mfeatures\u001B[0m\u001B[0;34m=\u001B[0m\u001B[0mfeatures\u001B[0m\u001B[0;34m,\u001B[0m\u001B[0;34m\u001B[0m\u001B[0;34m\u001B[0m\u001B[0m\n\u001B[0m\u001B[1;32m      9\u001B[0m         \u001B[0mmeta_features\u001B[0m\u001B[0;34m=\u001B[0m\u001B[0mmeta_features\u001B[0m\u001B[0;34m,\u001B[0m\u001B[0;34m\u001B[0m\u001B[0;34m\u001B[0m\u001B[0m\n\u001B[1;32m     10\u001B[0m         \u001B[0mreplicate_groups\u001B[0m\u001B[0;34m=\u001B[0m\u001B[0;34m[\u001B[0m\u001B[0;34m\"Metadata_moa\"\u001B[0m\u001B[0;34m]\u001B[0m\u001B[0;34m,\u001B[0m\u001B[0;34m\u001B[0m\u001B[0;34m\u001B[0m\u001B[0m\n",
      "\u001B[0;32m<ipython-input-104-09175302432e>\u001B[0m in \u001B[0;36m<module>\u001B[0;34m\u001B[0m\n\u001B[1;32m      6\u001B[0m     precision_recall_results = evaluate(\n\u001B[1;32m      7\u001B[0m         \u001B[0mprofiles\u001B[0m\u001B[0;34m=\u001B[0m\u001B[0mselected_moa\u001B[0m\u001B[0;34m,\u001B[0m\u001B[0;34m\u001B[0m\u001B[0;34m\u001B[0m\u001B[0m\n\u001B[0;32m----> 8\u001B[0;31m         \u001B[0mfeatures\u001B[0m\u001B[0;34m=\u001B[0m\u001B[0mfeatures\u001B[0m\u001B[0;34m,\u001B[0m\u001B[0;34m\u001B[0m\u001B[0;34m\u001B[0m\u001B[0m\n\u001B[0m\u001B[1;32m      9\u001B[0m         \u001B[0mmeta_features\u001B[0m\u001B[0;34m=\u001B[0m\u001B[0mmeta_features\u001B[0m\u001B[0;34m,\u001B[0m\u001B[0;34m\u001B[0m\u001B[0;34m\u001B[0m\u001B[0m\n\u001B[1;32m     10\u001B[0m         \u001B[0mreplicate_groups\u001B[0m\u001B[0;34m=\u001B[0m\u001B[0;34m[\u001B[0m\u001B[0;34m\"Metadata_moa\"\u001B[0m\u001B[0;34m]\u001B[0m\u001B[0;34m,\u001B[0m\u001B[0;34m\u001B[0m\u001B[0;34m\u001B[0m\u001B[0m\n",
      "\u001B[0;32m_pydevd_bundle/pydevd_cython_darwin_37_64.pyx\u001B[0m in \u001B[0;36m_pydevd_bundle.pydevd_cython_darwin_37_64.SafeCallWrapper.__call__\u001B[0;34m()\u001B[0m\n",
      "\u001B[0;32m_pydevd_bundle/pydevd_cython_darwin_37_64.pyx\u001B[0m in \u001B[0;36m_pydevd_bundle.pydevd_cython_darwin_37_64.PyDBFrame.trace_dispatch\u001B[0;34m()\u001B[0m\n",
      "\u001B[0;32m_pydevd_bundle/pydevd_cython_darwin_37_64.pyx\u001B[0m in \u001B[0;36m_pydevd_bundle.pydevd_cython_darwin_37_64.PyDBFrame.trace_dispatch\u001B[0;34m()\u001B[0m\n",
      "\u001B[0;32m_pydevd_bundle/pydevd_cython_darwin_37_64.pyx\u001B[0m in \u001B[0;36m_pydevd_bundle.pydevd_cython_darwin_37_64.PyDBFrame.trace_dispatch\u001B[0;34m()\u001B[0m\n",
      "\u001B[0;32m/Applications/PyCharm.app/Contents/plugins/python/helpers-pro/jupyter_debug/pydev_jupyter_plugin.py\u001B[0m in \u001B[0;36mstop\u001B[0;34m(plugin, pydb, frame, event, args, stop_info, arg, step_cmd)\u001B[0m\n\u001B[1;32m    163\u001B[0m         \u001B[0mframe\u001B[0m \u001B[0;34m=\u001B[0m \u001B[0msuspend_jupyter\u001B[0m\u001B[0;34m(\u001B[0m\u001B[0mmain_debugger\u001B[0m\u001B[0;34m,\u001B[0m \u001B[0mthread\u001B[0m\u001B[0;34m,\u001B[0m \u001B[0mframe\u001B[0m\u001B[0;34m,\u001B[0m \u001B[0mstep_cmd\u001B[0m\u001B[0;34m)\u001B[0m\u001B[0;34m\u001B[0m\u001B[0;34m\u001B[0m\u001B[0m\n\u001B[1;32m    164\u001B[0m         \u001B[0;32mif\u001B[0m \u001B[0mframe\u001B[0m\u001B[0;34m:\u001B[0m\u001B[0;34m\u001B[0m\u001B[0;34m\u001B[0m\u001B[0m\n\u001B[0;32m--> 165\u001B[0;31m             \u001B[0mmain_debugger\u001B[0m\u001B[0;34m.\u001B[0m\u001B[0mdo_wait_suspend\u001B[0m\u001B[0;34m(\u001B[0m\u001B[0mthread\u001B[0m\u001B[0;34m,\u001B[0m \u001B[0mframe\u001B[0m\u001B[0;34m,\u001B[0m \u001B[0mevent\u001B[0m\u001B[0;34m,\u001B[0m \u001B[0marg\u001B[0m\u001B[0;34m)\u001B[0m\u001B[0;34m\u001B[0m\u001B[0;34m\u001B[0m\u001B[0m\n\u001B[0m\u001B[1;32m    166\u001B[0m             \u001B[0;32mreturn\u001B[0m \u001B[0;32mTrue\u001B[0m\u001B[0;34m\u001B[0m\u001B[0;34m\u001B[0m\u001B[0m\n\u001B[1;32m    167\u001B[0m     \u001B[0;32mreturn\u001B[0m \u001B[0;32mFalse\u001B[0m\u001B[0;34m\u001B[0m\u001B[0;34m\u001B[0m\u001B[0m\n",
      "\u001B[0;32m/Applications/PyCharm.app/Contents/plugins/python/helpers/pydev/pydevd.py\u001B[0m in \u001B[0;36mdo_wait_suspend\u001B[0;34m(self, thread, frame, event, arg, send_suspend_message, is_unhandled_exception)\u001B[0m\n\u001B[1;32m   1139\u001B[0m \u001B[0;34m\u001B[0m\u001B[0m\n\u001B[1;32m   1140\u001B[0m         \u001B[0;32mwith\u001B[0m \u001B[0mself\u001B[0m\u001B[0;34m.\u001B[0m\u001B[0m_threads_suspended_single_notification\u001B[0m\u001B[0;34m.\u001B[0m\u001B[0mnotify_thread_suspended\u001B[0m\u001B[0;34m(\u001B[0m\u001B[0mthread_id\u001B[0m\u001B[0;34m,\u001B[0m \u001B[0mstop_reason\u001B[0m\u001B[0;34m)\u001B[0m\u001B[0;34m:\u001B[0m\u001B[0;34m\u001B[0m\u001B[0;34m\u001B[0m\u001B[0m\n\u001B[0;32m-> 1141\u001B[0;31m             \u001B[0mself\u001B[0m\u001B[0;34m.\u001B[0m\u001B[0m_do_wait_suspend\u001B[0m\u001B[0;34m(\u001B[0m\u001B[0mthread\u001B[0m\u001B[0;34m,\u001B[0m \u001B[0mframe\u001B[0m\u001B[0;34m,\u001B[0m \u001B[0mevent\u001B[0m\u001B[0;34m,\u001B[0m \u001B[0marg\u001B[0m\u001B[0;34m,\u001B[0m \u001B[0msuspend_type\u001B[0m\u001B[0;34m,\u001B[0m \u001B[0mfrom_this_thread\u001B[0m\u001B[0;34m)\u001B[0m\u001B[0;34m\u001B[0m\u001B[0;34m\u001B[0m\u001B[0m\n\u001B[0m\u001B[1;32m   1142\u001B[0m \u001B[0;34m\u001B[0m\u001B[0m\n\u001B[1;32m   1143\u001B[0m     \u001B[0;32mdef\u001B[0m \u001B[0m_do_wait_suspend\u001B[0m\u001B[0;34m(\u001B[0m\u001B[0mself\u001B[0m\u001B[0;34m,\u001B[0m \u001B[0mthread\u001B[0m\u001B[0;34m,\u001B[0m \u001B[0mframe\u001B[0m\u001B[0;34m,\u001B[0m \u001B[0mevent\u001B[0m\u001B[0;34m,\u001B[0m \u001B[0marg\u001B[0m\u001B[0;34m,\u001B[0m \u001B[0msuspend_type\u001B[0m\u001B[0;34m,\u001B[0m \u001B[0mfrom_this_thread\u001B[0m\u001B[0;34m)\u001B[0m\u001B[0;34m:\u001B[0m\u001B[0;34m\u001B[0m\u001B[0;34m\u001B[0m\u001B[0m\n",
      "\u001B[0;32m/Applications/PyCharm.app/Contents/plugins/python/helpers/pydev/pydevd.py\u001B[0m in \u001B[0;36m_do_wait_suspend\u001B[0;34m(self, thread, frame, event, arg, suspend_type, from_this_thread)\u001B[0m\n\u001B[1;32m   1154\u001B[0m \u001B[0;34m\u001B[0m\u001B[0m\n\u001B[1;32m   1155\u001B[0m                 \u001B[0mself\u001B[0m\u001B[0;34m.\u001B[0m\u001B[0mprocess_internal_commands\u001B[0m\u001B[0;34m(\u001B[0m\u001B[0;34m)\u001B[0m\u001B[0;34m\u001B[0m\u001B[0;34m\u001B[0m\u001B[0m\n\u001B[0;32m-> 1156\u001B[0;31m                 \u001B[0mtime\u001B[0m\u001B[0;34m.\u001B[0m\u001B[0msleep\u001B[0m\u001B[0;34m(\u001B[0m\u001B[0;36m0.01\u001B[0m\u001B[0;34m)\u001B[0m\u001B[0;34m\u001B[0m\u001B[0;34m\u001B[0m\u001B[0m\n\u001B[0m\u001B[1;32m   1157\u001B[0m \u001B[0;34m\u001B[0m\u001B[0m\n\u001B[1;32m   1158\u001B[0m         \u001B[0mself\u001B[0m\u001B[0;34m.\u001B[0m\u001B[0mcancel_async_evaluation\u001B[0m\u001B[0;34m(\u001B[0m\u001B[0mget_current_thread_id\u001B[0m\u001B[0;34m(\u001B[0m\u001B[0mthread\u001B[0m\u001B[0;34m)\u001B[0m\u001B[0;34m,\u001B[0m \u001B[0mstr\u001B[0m\u001B[0;34m(\u001B[0m\u001B[0mid\u001B[0m\u001B[0;34m(\u001B[0m\u001B[0mframe\u001B[0m\u001B[0;34m)\u001B[0m\u001B[0;34m)\u001B[0m\u001B[0;34m)\u001B[0m\u001B[0;34m\u001B[0m\u001B[0;34m\u001B[0m\u001B[0m\n",
      "\u001B[0;31mKeyboardInterrupt\u001B[0m: "
     ]
    }
   ],
   "source": [
    "precision_recall_at_k = []\n",
    "\n",
    "\n",
    "for k in [2, 10]:\n",
    "\n",
    "    precision_recall_results = evaluate(\n",
    "        profiles=selected_moa,\n",
    "        features=features,\n",
    "        meta_features=meta_features,\n",
    "        replicate_groups=[\"Metadata_moa\"],\n",
    "        operation=\"precision_recall\",\n",
    "        similarity_metric=\"pearson\",\n",
    "        precision_recall_k=k\n",
    "    )\n",
    "\n",
    "    precision_recall_at_k.append(precision_recall_results)"
   ],
   "metadata": {
    "collapsed": false,
    "pycharm": {
     "name": "#%%\n"
    }
   }
  },
  {
   "cell_type": "code",
   "execution_count": 100,
   "outputs": [
    {
     "name": "stdout",
     "output_type": "stream",
     "text": [
      "(4, 4)\n"
     ]
    },
    {
     "data": {
      "text/plain": "                         Metadata_moa     k  precision    recall\n0               calmodulin antagonist   2.0        0.0  0.000000\n1  glucocorticoid receptor antagonist   2.0        0.0  0.000000\n2               calmodulin antagonist  10.0        0.4  0.030303\n3  glucocorticoid receptor antagonist  10.0        0.2  0.066667",
      "text/html": "<div>\n<style scoped>\n    .dataframe tbody tr th:only-of-type {\n        vertical-align: middle;\n    }\n\n    .dataframe tbody tr th {\n        vertical-align: top;\n    }\n\n    .dataframe thead th {\n        text-align: right;\n    }\n</style>\n<table border=\"1\" class=\"dataframe\">\n  <thead>\n    <tr style=\"text-align: right;\">\n      <th></th>\n      <th>Metadata_moa</th>\n      <th>k</th>\n      <th>precision</th>\n      <th>recall</th>\n    </tr>\n  </thead>\n  <tbody>\n    <tr>\n      <th>0</th>\n      <td>calmodulin antagonist</td>\n      <td>2.0</td>\n      <td>0.0</td>\n      <td>0.000000</td>\n    </tr>\n    <tr>\n      <th>1</th>\n      <td>glucocorticoid receptor antagonist</td>\n      <td>2.0</td>\n      <td>0.0</td>\n      <td>0.000000</td>\n    </tr>\n    <tr>\n      <th>2</th>\n      <td>calmodulin antagonist</td>\n      <td>10.0</td>\n      <td>0.4</td>\n      <td>0.030303</td>\n    </tr>\n    <tr>\n      <th>3</th>\n      <td>glucocorticoid receptor antagonist</td>\n      <td>10.0</td>\n      <td>0.2</td>\n      <td>0.066667</td>\n    </tr>\n  </tbody>\n</table>\n</div>"
     },
     "execution_count": 100,
     "metadata": {},
     "output_type": "execute_result"
    }
   ],
   "source": [
    "df_res_1 = pd.concat(precision_recall_at_k).reset_index(drop=True)\n",
    "print(df_res_1.shape)\n",
    "df_res_1.head()"
   ],
   "metadata": {
    "collapsed": false,
    "pycharm": {
     "name": "#%%\n"
    }
   }
  },
  {
   "cell_type": "code",
   "execution_count": 101,
   "outputs": [
    {
     "data": {
      "text/plain": "[[2.0, 0.0, 0.0], [10.0, 0.30000000000000004, 0.048484848484848485]]"
     },
     "execution_count": 101,
     "metadata": {},
     "output_type": "execute_result"
    }
   ],
   "source": [
    "pr_av = []\n",
    "for k in df_res_1.k.unique():\n",
    "    pr_av.append(df_res_1.query(\"k==@k\").mean().tolist())\n",
    "pr_av"
   ],
   "metadata": {
    "collapsed": false,
    "pycharm": {
     "name": "#%%\n"
    }
   }
  },
  {
   "cell_type": "code",
   "execution_count": 102,
   "outputs": [],
   "source": [
    "ls = df.Metadata_moa.unique()[:2].tolist()\n",
    "ls\n",
    "selected_moa= df.query(\"Metadata_moa==@ls\")\n"
   ],
   "metadata": {
    "collapsed": false,
    "pycharm": {
     "name": "#%%\n"
    }
   }
  },
  {
   "cell_type": "code",
   "execution_count": 103,
   "outputs": [
    {
     "data": {
      "text/plain": "     Metadata_Plate_Map_Name Metadata_cell_id   Metadata_broad_sample  \\\n0          C-7161-01-LM6-001             A549  BRD-A25234499-001-18-3   \n1          C-7161-01-LM6-001             A549  BRD-A25234499-001-18-3   \n2          C-7161-01-LM6-001             A549  BRD-A25234499-001-18-3   \n3          C-7161-01-LM6-001             A549  BRD-A25234499-001-18-3   \n4          C-7161-01-LM6-001             A549  BRD-A25234499-001-18-3   \n5          C-7161-01-LM6-001             A549  BRD-A25234499-001-18-3   \n6          C-7161-01-LM6-001             A549  BRD-A26032986-050-02-1   \n7          C-7161-01-LM6-001             A549  BRD-A26032986-050-02-1   \n8          C-7161-01-LM6-001             A549  BRD-A26032986-050-02-1   \n9          C-7161-01-LM6-001             A549  BRD-A26032986-050-02-1   \n10         C-7161-01-LM6-001             A549  BRD-A26032986-050-02-1   \n11         C-7161-01-LM6-001             A549  BRD-A26032986-050-02-1   \n4926       C-7161-01-LM6-013             A549  BRD-K44309363-003-02-1   \n4927       C-7161-01-LM6-013             A549  BRD-K44309363-003-02-1   \n4928       C-7161-01-LM6-013             A549  BRD-K44309363-003-02-1   \n4929       C-7161-01-LM6-013             A549  BRD-K44309363-003-02-1   \n4930       C-7161-01-LM6-013             A549  BRD-K44309363-003-02-1   \n4931       C-7161-01-LM6-013             A549  BRD-K44309363-003-02-1   \n\n     Metadata_pert_well  Metadata_mmoles_per_liter  Metadata_dose_recode  \\\n0                   B13                  10.000000                     6   \n1                   B14                   3.333300                     5   \n2                   B15                   1.111100                     4   \n3                   B16                   0.370370                     3   \n4                   B17                   0.123460                     2   \n5                   B18                   0.041152                     1   \n6                   C13                  10.000000                     6   \n7                   C14                   3.333300                     5   \n8                   C15                   1.111100                     4   \n9                   C16                   0.370370                     3   \n10                  C17                   0.123460                     2   \n11                  C18                   0.041152                     1   \n4926                O19                  10.000000                     6   \n4927                O20                   3.333300                     5   \n4928                O21                   1.111100                     4   \n4929                O22                   0.370370                     3   \n4930                O23                   0.123460                     2   \n4931                O24                   0.041152                     1   \n\n     Metadata_time_point                        Metadata_moa  Metadata_target  \\\n0                    48H  glucocorticoid receptor antagonist  CYP11A1|CYP19A1   \n1                    48H  glucocorticoid receptor antagonist  CYP11A1|CYP19A1   \n2                    48H  glucocorticoid receptor antagonist  CYP11A1|CYP19A1   \n3                    48H  glucocorticoid receptor antagonist  CYP11A1|CYP19A1   \n4                    48H  glucocorticoid receptor antagonist  CYP11A1|CYP19A1   \n5                    48H  glucocorticoid receptor antagonist  CYP11A1|CYP19A1   \n6                    48H               calmodulin antagonist            CALM1   \n7                    48H               calmodulin antagonist            CALM1   \n8                    48H               calmodulin antagonist            CALM1   \n9                    48H               calmodulin antagonist            CALM1   \n10                   48H               calmodulin antagonist            CALM1   \n11                   48H               calmodulin antagonist            CALM1   \n4926                 48H               calmodulin antagonist           ADORA3   \n4927                 48H               calmodulin antagonist           ADORA3   \n4928                 48H               calmodulin antagonist           ADORA3   \n4929                 48H               calmodulin antagonist           ADORA3   \n4930                 48H               calmodulin antagonist           ADORA3   \n4931                 48H               calmodulin antagonist           ADORA3   \n\n      Cells_AreaShape_Area  ...  \\\n0                 0.344670  ...   \n1                 0.488995  ...   \n2                 0.505526  ...   \n3                 0.092069  ...   \n4                 0.705527  ...   \n5                 0.660675  ...   \n6                 0.006508  ...   \n7                -0.335829  ...   \n8                -0.495838  ...   \n9                 0.159910  ...   \n10               -0.251217  ...   \n11               -0.297820  ...   \n4926              0.353450  ...   \n4927              2.234850  ...   \n4928              1.229950  ...   \n4929              1.558930  ...   \n4930              1.286010  ...   \n4931              1.048680  ...   \n\n      Nuclei_Texture_InverseDifferenceMoment_RNA_10_0  \\\n0                                           -0.302193   \n1                                           -0.498673   \n2                                           -0.250714   \n3                                           -0.338021   \n4                                           -0.277073   \n5                                           -0.196240   \n6                                           -0.361908   \n7                                           -0.122731   \n8                                           -0.393809   \n9                                            0.132909   \n10                                          -0.235459   \n11                                          -0.211840   \n4926                                        -1.357350   \n4927                                        -0.147710   \n4928                                         0.064435   \n4929                                         0.687650   \n4930                                         0.024325   \n4931                                         0.689460   \n\n      Nuclei_Texture_InverseDifferenceMoment_RNA_20_0  \\\n0                                           -0.262680   \n1                                            0.301335   \n2                                           -0.020691   \n3                                            0.568476   \n4                                            0.775823   \n5                                            0.463537   \n6                                            0.490263   \n7                                            0.816301   \n8                                            0.783456   \n9                                            1.508950   \n10                                           0.535819   \n11                                           0.887341   \n4926                                        -1.187170   \n4927                                        -0.926955   \n4928                                        -0.665225   \n4929                                         0.770740   \n4930                                        -0.518332   \n4931                                         0.655465   \n\n      Nuclei_Texture_SumAverage_DNA_20_0  Nuclei_Texture_SumAverage_Mito_5_0  \\\n0                              -0.643318                           -0.307924   \n1                              -0.161695                           -2.046360   \n2                               0.722674                           -0.759924   \n3                              -0.552219                           -0.770124   \n4                              -0.895731                           -0.762473   \n5                              -0.466923                            0.131255   \n6                               0.749907                           -1.321410   \n7                               0.463976                           -0.084156   \n8                               0.712816                           -0.094821   \n9                              -0.247320                           -0.346166   \n10                              0.550565                            0.586227   \n11                              0.110496                            0.517642   \n4926                           -1.661820                            5.378150   \n4927                            1.391050                            1.781650   \n4928                           -0.237320                            1.054270   \n4929                           -1.170100                            0.168100   \n4930                           -0.692090                            1.003880   \n4931                           -3.274280                            1.954250   \n\n      Nuclei_Texture_SumAverage_RNA_20_0  Nuclei_Texture_SumEntropy_DNA_10_0  \\\n0                              -0.263607                           -0.771062   \n1                              -0.147213                           -0.230816   \n2                              -0.012077                           -0.270183   \n3                              -0.391011                           -0.667111   \n4                              -0.429907                           -0.214208   \n5                              -0.029748                           -0.089949   \n6                              -0.160391                           -0.928242   \n7                              -0.548634                           -0.430176   \n8                              -0.713905                           -0.732230   \n9                              -0.834109                           -0.314153   \n10                             -0.395159                           -0.365616   \n11                             -0.521633                           -0.405908   \n4926                            6.668100                            1.980400   \n4927                            2.468190                            1.131460   \n4928                            1.072890                            1.177050   \n4929                           -0.332180                            1.238200   \n4930                            1.085710                            1.073000   \n4931                           -0.357630                            0.863395   \n\n      Nuclei_Texture_SumEntropy_DNA_20_0  Nuclei_Texture_SumEntropy_DNA_5_0  \\\n0                              -0.622449                          -0.968180   \n1                              -0.157423                          -0.247806   \n2                              -0.134932                          -0.359148   \n3                              -0.517957                          -0.674251   \n4                              -0.198268                          -0.241933   \n5                              -0.050630                          -0.167733   \n6                              -0.681633                          -1.068360   \n7                              -0.462279                          -0.427966   \n8                              -0.667627                          -0.875021   \n9                              -0.384395                          -0.315538   \n10                             -0.253302                          -0.346408   \n11                             -0.292626                          -0.396375   \n4926                            2.744250                          -2.422350   \n4927                            1.228830                           1.143600   \n4928                            1.242180                           1.269550   \n4929                            1.255550                           1.158810   \n4930                            1.043290                           1.179830   \n4931                            0.370475                           0.460825   \n\n      Nuclei_Texture_SumEntropy_RNA_5_0  Nuclei_Texture_Variance_RNA_10_0  \n0                              0.087257                          0.691044  \n1                              0.243377                         -1.196500  \n2                              0.276299                         -0.796096  \n3                              0.022910                         -0.944185  \n4                              0.026243                         -0.849128  \n5                              0.423890                         -0.865904  \n6                             -0.446784                         -0.177102  \n7                             -0.412447                         -0.597361  \n8                             -0.480377                         -0.632410  \n9                             -1.014570                         -1.039960  \n10                            -0.622600                         -1.126290  \n11                            -0.499165                         -0.706010  \n4926                           4.956750                          1.775690  \n4927                           2.115820                          0.810230  \n4928                           1.346590                          0.210230  \n4929                          -0.080500                          0.542600  \n4930                           1.449840                          0.918890  \n4931                          -1.880640                         -0.461540  \n\n[18 rows x 528 columns]",
      "text/html": "<div>\n<style scoped>\n    .dataframe tbody tr th:only-of-type {\n        vertical-align: middle;\n    }\n\n    .dataframe tbody tr th {\n        vertical-align: top;\n    }\n\n    .dataframe thead th {\n        text-align: right;\n    }\n</style>\n<table border=\"1\" class=\"dataframe\">\n  <thead>\n    <tr style=\"text-align: right;\">\n      <th></th>\n      <th>Metadata_Plate_Map_Name</th>\n      <th>Metadata_cell_id</th>\n      <th>Metadata_broad_sample</th>\n      <th>Metadata_pert_well</th>\n      <th>Metadata_mmoles_per_liter</th>\n      <th>Metadata_dose_recode</th>\n      <th>Metadata_time_point</th>\n      <th>Metadata_moa</th>\n      <th>Metadata_target</th>\n      <th>Cells_AreaShape_Area</th>\n      <th>...</th>\n      <th>Nuclei_Texture_InverseDifferenceMoment_RNA_10_0</th>\n      <th>Nuclei_Texture_InverseDifferenceMoment_RNA_20_0</th>\n      <th>Nuclei_Texture_SumAverage_DNA_20_0</th>\n      <th>Nuclei_Texture_SumAverage_Mito_5_0</th>\n      <th>Nuclei_Texture_SumAverage_RNA_20_0</th>\n      <th>Nuclei_Texture_SumEntropy_DNA_10_0</th>\n      <th>Nuclei_Texture_SumEntropy_DNA_20_0</th>\n      <th>Nuclei_Texture_SumEntropy_DNA_5_0</th>\n      <th>Nuclei_Texture_SumEntropy_RNA_5_0</th>\n      <th>Nuclei_Texture_Variance_RNA_10_0</th>\n    </tr>\n  </thead>\n  <tbody>\n    <tr>\n      <th>0</th>\n      <td>C-7161-01-LM6-001</td>\n      <td>A549</td>\n      <td>BRD-A25234499-001-18-3</td>\n      <td>B13</td>\n      <td>10.000000</td>\n      <td>6</td>\n      <td>48H</td>\n      <td>glucocorticoid receptor antagonist</td>\n      <td>CYP11A1|CYP19A1</td>\n      <td>0.344670</td>\n      <td>...</td>\n      <td>-0.302193</td>\n      <td>-0.262680</td>\n      <td>-0.643318</td>\n      <td>-0.307924</td>\n      <td>-0.263607</td>\n      <td>-0.771062</td>\n      <td>-0.622449</td>\n      <td>-0.968180</td>\n      <td>0.087257</td>\n      <td>0.691044</td>\n    </tr>\n    <tr>\n      <th>1</th>\n      <td>C-7161-01-LM6-001</td>\n      <td>A549</td>\n      <td>BRD-A25234499-001-18-3</td>\n      <td>B14</td>\n      <td>3.333300</td>\n      <td>5</td>\n      <td>48H</td>\n      <td>glucocorticoid receptor antagonist</td>\n      <td>CYP11A1|CYP19A1</td>\n      <td>0.488995</td>\n      <td>...</td>\n      <td>-0.498673</td>\n      <td>0.301335</td>\n      <td>-0.161695</td>\n      <td>-2.046360</td>\n      <td>-0.147213</td>\n      <td>-0.230816</td>\n      <td>-0.157423</td>\n      <td>-0.247806</td>\n      <td>0.243377</td>\n      <td>-1.196500</td>\n    </tr>\n    <tr>\n      <th>2</th>\n      <td>C-7161-01-LM6-001</td>\n      <td>A549</td>\n      <td>BRD-A25234499-001-18-3</td>\n      <td>B15</td>\n      <td>1.111100</td>\n      <td>4</td>\n      <td>48H</td>\n      <td>glucocorticoid receptor antagonist</td>\n      <td>CYP11A1|CYP19A1</td>\n      <td>0.505526</td>\n      <td>...</td>\n      <td>-0.250714</td>\n      <td>-0.020691</td>\n      <td>0.722674</td>\n      <td>-0.759924</td>\n      <td>-0.012077</td>\n      <td>-0.270183</td>\n      <td>-0.134932</td>\n      <td>-0.359148</td>\n      <td>0.276299</td>\n      <td>-0.796096</td>\n    </tr>\n    <tr>\n      <th>3</th>\n      <td>C-7161-01-LM6-001</td>\n      <td>A549</td>\n      <td>BRD-A25234499-001-18-3</td>\n      <td>B16</td>\n      <td>0.370370</td>\n      <td>3</td>\n      <td>48H</td>\n      <td>glucocorticoid receptor antagonist</td>\n      <td>CYP11A1|CYP19A1</td>\n      <td>0.092069</td>\n      <td>...</td>\n      <td>-0.338021</td>\n      <td>0.568476</td>\n      <td>-0.552219</td>\n      <td>-0.770124</td>\n      <td>-0.391011</td>\n      <td>-0.667111</td>\n      <td>-0.517957</td>\n      <td>-0.674251</td>\n      <td>0.022910</td>\n      <td>-0.944185</td>\n    </tr>\n    <tr>\n      <th>4</th>\n      <td>C-7161-01-LM6-001</td>\n      <td>A549</td>\n      <td>BRD-A25234499-001-18-3</td>\n      <td>B17</td>\n      <td>0.123460</td>\n      <td>2</td>\n      <td>48H</td>\n      <td>glucocorticoid receptor antagonist</td>\n      <td>CYP11A1|CYP19A1</td>\n      <td>0.705527</td>\n      <td>...</td>\n      <td>-0.277073</td>\n      <td>0.775823</td>\n      <td>-0.895731</td>\n      <td>-0.762473</td>\n      <td>-0.429907</td>\n      <td>-0.214208</td>\n      <td>-0.198268</td>\n      <td>-0.241933</td>\n      <td>0.026243</td>\n      <td>-0.849128</td>\n    </tr>\n    <tr>\n      <th>5</th>\n      <td>C-7161-01-LM6-001</td>\n      <td>A549</td>\n      <td>BRD-A25234499-001-18-3</td>\n      <td>B18</td>\n      <td>0.041152</td>\n      <td>1</td>\n      <td>48H</td>\n      <td>glucocorticoid receptor antagonist</td>\n      <td>CYP11A1|CYP19A1</td>\n      <td>0.660675</td>\n      <td>...</td>\n      <td>-0.196240</td>\n      <td>0.463537</td>\n      <td>-0.466923</td>\n      <td>0.131255</td>\n      <td>-0.029748</td>\n      <td>-0.089949</td>\n      <td>-0.050630</td>\n      <td>-0.167733</td>\n      <td>0.423890</td>\n      <td>-0.865904</td>\n    </tr>\n    <tr>\n      <th>6</th>\n      <td>C-7161-01-LM6-001</td>\n      <td>A549</td>\n      <td>BRD-A26032986-050-02-1</td>\n      <td>C13</td>\n      <td>10.000000</td>\n      <td>6</td>\n      <td>48H</td>\n      <td>calmodulin antagonist</td>\n      <td>CALM1</td>\n      <td>0.006508</td>\n      <td>...</td>\n      <td>-0.361908</td>\n      <td>0.490263</td>\n      <td>0.749907</td>\n      <td>-1.321410</td>\n      <td>-0.160391</td>\n      <td>-0.928242</td>\n      <td>-0.681633</td>\n      <td>-1.068360</td>\n      <td>-0.446784</td>\n      <td>-0.177102</td>\n    </tr>\n    <tr>\n      <th>7</th>\n      <td>C-7161-01-LM6-001</td>\n      <td>A549</td>\n      <td>BRD-A26032986-050-02-1</td>\n      <td>C14</td>\n      <td>3.333300</td>\n      <td>5</td>\n      <td>48H</td>\n      <td>calmodulin antagonist</td>\n      <td>CALM1</td>\n      <td>-0.335829</td>\n      <td>...</td>\n      <td>-0.122731</td>\n      <td>0.816301</td>\n      <td>0.463976</td>\n      <td>-0.084156</td>\n      <td>-0.548634</td>\n      <td>-0.430176</td>\n      <td>-0.462279</td>\n      <td>-0.427966</td>\n      <td>-0.412447</td>\n      <td>-0.597361</td>\n    </tr>\n    <tr>\n      <th>8</th>\n      <td>C-7161-01-LM6-001</td>\n      <td>A549</td>\n      <td>BRD-A26032986-050-02-1</td>\n      <td>C15</td>\n      <td>1.111100</td>\n      <td>4</td>\n      <td>48H</td>\n      <td>calmodulin antagonist</td>\n      <td>CALM1</td>\n      <td>-0.495838</td>\n      <td>...</td>\n      <td>-0.393809</td>\n      <td>0.783456</td>\n      <td>0.712816</td>\n      <td>-0.094821</td>\n      <td>-0.713905</td>\n      <td>-0.732230</td>\n      <td>-0.667627</td>\n      <td>-0.875021</td>\n      <td>-0.480377</td>\n      <td>-0.632410</td>\n    </tr>\n    <tr>\n      <th>9</th>\n      <td>C-7161-01-LM6-001</td>\n      <td>A549</td>\n      <td>BRD-A26032986-050-02-1</td>\n      <td>C16</td>\n      <td>0.370370</td>\n      <td>3</td>\n      <td>48H</td>\n      <td>calmodulin antagonist</td>\n      <td>CALM1</td>\n      <td>0.159910</td>\n      <td>...</td>\n      <td>0.132909</td>\n      <td>1.508950</td>\n      <td>-0.247320</td>\n      <td>-0.346166</td>\n      <td>-0.834109</td>\n      <td>-0.314153</td>\n      <td>-0.384395</td>\n      <td>-0.315538</td>\n      <td>-1.014570</td>\n      <td>-1.039960</td>\n    </tr>\n    <tr>\n      <th>10</th>\n      <td>C-7161-01-LM6-001</td>\n      <td>A549</td>\n      <td>BRD-A26032986-050-02-1</td>\n      <td>C17</td>\n      <td>0.123460</td>\n      <td>2</td>\n      <td>48H</td>\n      <td>calmodulin antagonist</td>\n      <td>CALM1</td>\n      <td>-0.251217</td>\n      <td>...</td>\n      <td>-0.235459</td>\n      <td>0.535819</td>\n      <td>0.550565</td>\n      <td>0.586227</td>\n      <td>-0.395159</td>\n      <td>-0.365616</td>\n      <td>-0.253302</td>\n      <td>-0.346408</td>\n      <td>-0.622600</td>\n      <td>-1.126290</td>\n    </tr>\n    <tr>\n      <th>11</th>\n      <td>C-7161-01-LM6-001</td>\n      <td>A549</td>\n      <td>BRD-A26032986-050-02-1</td>\n      <td>C18</td>\n      <td>0.041152</td>\n      <td>1</td>\n      <td>48H</td>\n      <td>calmodulin antagonist</td>\n      <td>CALM1</td>\n      <td>-0.297820</td>\n      <td>...</td>\n      <td>-0.211840</td>\n      <td>0.887341</td>\n      <td>0.110496</td>\n      <td>0.517642</td>\n      <td>-0.521633</td>\n      <td>-0.405908</td>\n      <td>-0.292626</td>\n      <td>-0.396375</td>\n      <td>-0.499165</td>\n      <td>-0.706010</td>\n    </tr>\n    <tr>\n      <th>4926</th>\n      <td>C-7161-01-LM6-013</td>\n      <td>A549</td>\n      <td>BRD-K44309363-003-02-1</td>\n      <td>O19</td>\n      <td>10.000000</td>\n      <td>6</td>\n      <td>48H</td>\n      <td>calmodulin antagonist</td>\n      <td>ADORA3</td>\n      <td>0.353450</td>\n      <td>...</td>\n      <td>-1.357350</td>\n      <td>-1.187170</td>\n      <td>-1.661820</td>\n      <td>5.378150</td>\n      <td>6.668100</td>\n      <td>1.980400</td>\n      <td>2.744250</td>\n      <td>-2.422350</td>\n      <td>4.956750</td>\n      <td>1.775690</td>\n    </tr>\n    <tr>\n      <th>4927</th>\n      <td>C-7161-01-LM6-013</td>\n      <td>A549</td>\n      <td>BRD-K44309363-003-02-1</td>\n      <td>O20</td>\n      <td>3.333300</td>\n      <td>5</td>\n      <td>48H</td>\n      <td>calmodulin antagonist</td>\n      <td>ADORA3</td>\n      <td>2.234850</td>\n      <td>...</td>\n      <td>-0.147710</td>\n      <td>-0.926955</td>\n      <td>1.391050</td>\n      <td>1.781650</td>\n      <td>2.468190</td>\n      <td>1.131460</td>\n      <td>1.228830</td>\n      <td>1.143600</td>\n      <td>2.115820</td>\n      <td>0.810230</td>\n    </tr>\n    <tr>\n      <th>4928</th>\n      <td>C-7161-01-LM6-013</td>\n      <td>A549</td>\n      <td>BRD-K44309363-003-02-1</td>\n      <td>O21</td>\n      <td>1.111100</td>\n      <td>4</td>\n      <td>48H</td>\n      <td>calmodulin antagonist</td>\n      <td>ADORA3</td>\n      <td>1.229950</td>\n      <td>...</td>\n      <td>0.064435</td>\n      <td>-0.665225</td>\n      <td>-0.237320</td>\n      <td>1.054270</td>\n      <td>1.072890</td>\n      <td>1.177050</td>\n      <td>1.242180</td>\n      <td>1.269550</td>\n      <td>1.346590</td>\n      <td>0.210230</td>\n    </tr>\n    <tr>\n      <th>4929</th>\n      <td>C-7161-01-LM6-013</td>\n      <td>A549</td>\n      <td>BRD-K44309363-003-02-1</td>\n      <td>O22</td>\n      <td>0.370370</td>\n      <td>3</td>\n      <td>48H</td>\n      <td>calmodulin antagonist</td>\n      <td>ADORA3</td>\n      <td>1.558930</td>\n      <td>...</td>\n      <td>0.687650</td>\n      <td>0.770740</td>\n      <td>-1.170100</td>\n      <td>0.168100</td>\n      <td>-0.332180</td>\n      <td>1.238200</td>\n      <td>1.255550</td>\n      <td>1.158810</td>\n      <td>-0.080500</td>\n      <td>0.542600</td>\n    </tr>\n    <tr>\n      <th>4930</th>\n      <td>C-7161-01-LM6-013</td>\n      <td>A549</td>\n      <td>BRD-K44309363-003-02-1</td>\n      <td>O23</td>\n      <td>0.123460</td>\n      <td>2</td>\n      <td>48H</td>\n      <td>calmodulin antagonist</td>\n      <td>ADORA3</td>\n      <td>1.286010</td>\n      <td>...</td>\n      <td>0.024325</td>\n      <td>-0.518332</td>\n      <td>-0.692090</td>\n      <td>1.003880</td>\n      <td>1.085710</td>\n      <td>1.073000</td>\n      <td>1.043290</td>\n      <td>1.179830</td>\n      <td>1.449840</td>\n      <td>0.918890</td>\n    </tr>\n    <tr>\n      <th>4931</th>\n      <td>C-7161-01-LM6-013</td>\n      <td>A549</td>\n      <td>BRD-K44309363-003-02-1</td>\n      <td>O24</td>\n      <td>0.041152</td>\n      <td>1</td>\n      <td>48H</td>\n      <td>calmodulin antagonist</td>\n      <td>ADORA3</td>\n      <td>1.048680</td>\n      <td>...</td>\n      <td>0.689460</td>\n      <td>0.655465</td>\n      <td>-3.274280</td>\n      <td>1.954250</td>\n      <td>-0.357630</td>\n      <td>0.863395</td>\n      <td>0.370475</td>\n      <td>0.460825</td>\n      <td>-1.880640</td>\n      <td>-0.461540</td>\n    </tr>\n  </tbody>\n</table>\n<p>18 rows × 528 columns</p>\n</div>"
     },
     "execution_count": 103,
     "metadata": {},
     "output_type": "execute_result"
    }
   ],
   "source": [
    "selected_moa\n"
   ],
   "metadata": {
    "collapsed": false,
    "pycharm": {
     "name": "#%%\n"
    }
   }
  }
 ],
 "metadata": {
  "kernelspec": {
   "name": "pycharm-f57c4e3b",
   "language": "python",
   "display_name": "PyCharm (git)"
  },
  "language_info": {
   "codemirror_mode": {
    "name": "ipython",
    "version": 2
   },
   "file_extension": ".py",
   "mimetype": "text/x-python",
   "name": "python",
   "nbconvert_exporter": "python",
   "pygments_lexer": "ipython2",
   "version": "2.7.6"
  }
 },
 "nbformat": 4,
 "nbformat_minor": 0
}