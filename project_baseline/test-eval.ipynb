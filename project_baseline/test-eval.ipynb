{
 "cells": [
  {
   "cell_type": "markdown",
   "source": [
    "Week 2.\n",
    "Attempt at reading in L5 Consesnus Lincs data and applying Metrics to it.\n",
    "\n",
    "Most content is copied from the cyto-eval demo notebook. Thanks Greg!"
   ],
   "metadata": {
    "collapsed": false
   }
  },
  {
   "cell_type": "code",
   "execution_count": 9,
   "outputs": [],
   "source": [
    "import os\n",
    "import pandas as pd\n",
    "import numpy as np\n",
    "from sklearn import preprocessing\n",
    "import plotnine as gg\n",
    "from cytominer_eval import evaluate\n",
    "from pycytominer.cyto_utils import infer_cp_features"
   ],
   "metadata": {
    "collapsed": false,
    "pycharm": {
     "name": "#%%\n"
    }
   }
  },
  {
   "cell_type": "markdown",
   "source": [
    "## Load data"
   ],
   "metadata": {
    "collapsed": false
   }
  },
  {
   "cell_type": "code",
   "execution_count": 2,
   "outputs": [],
   "source": [
    "data_dir = '2016_04_01_a549_48hr_batch1_consensus_modz_feature_select_dmso.csv.gz'"
   ],
   "metadata": {
    "collapsed": false,
    "pycharm": {
     "name": "#%%\n"
    }
   }
  },
  {
   "cell_type": "code",
   "execution_count": 4,
   "outputs": [],
   "source": [
    "df = pd.read_csv(data_dir)"
   ],
   "metadata": {
    "collapsed": false,
    "pycharm": {
     "name": "#%%\n"
    }
   }
  },
  {
   "cell_type": "code",
   "execution_count": 16,
   "outputs": [
    {
     "name": "stdout",
     "output_type": "stream",
     "text": [
      "(10752, 528)\n"
     ]
    },
    {
     "data": {
      "text/plain": "  Metadata_Plate_Map_Name Metadata_cell_id   Metadata_broad_sample  \\\n0       C-7161-01-LM6-001             A549  BRD-A25234499-001-18-3   \n1       C-7161-01-LM6-001             A549  BRD-A25234499-001-18-3   \n2       C-7161-01-LM6-001             A549  BRD-A25234499-001-18-3   \n3       C-7161-01-LM6-001             A549  BRD-A25234499-001-18-3   \n4       C-7161-01-LM6-001             A549  BRD-A25234499-001-18-3   \n\n  Metadata_pert_well  Metadata_mmoles_per_liter  Metadata_dose_recode  \\\n0                B13                   10.00000                     6   \n1                B14                    3.33330                     5   \n2                B15                    1.11110                     4   \n3                B16                    0.37037                     3   \n4                B17                    0.12346                     2   \n\n  Metadata_time_point                        Metadata_moa  Metadata_target  \\\n0                 48H  glucocorticoid receptor antagonist  CYP11A1|CYP19A1   \n1                 48H  glucocorticoid receptor antagonist  CYP11A1|CYP19A1   \n2                 48H  glucocorticoid receptor antagonist  CYP11A1|CYP19A1   \n3                 48H  glucocorticoid receptor antagonist  CYP11A1|CYP19A1   \n4                 48H  glucocorticoid receptor antagonist  CYP11A1|CYP19A1   \n\n   Cells_AreaShape_Area  ...  Nuclei_Texture_InverseDifferenceMoment_RNA_10_0  \\\n0              0.344670  ...                                        -0.302193   \n1              0.488995  ...                                        -0.498673   \n2              0.505526  ...                                        -0.250714   \n3              0.092069  ...                                        -0.338021   \n4              0.705527  ...                                        -0.277073   \n\n   Nuclei_Texture_InverseDifferenceMoment_RNA_20_0  \\\n0                                        -0.262680   \n1                                         0.301335   \n2                                        -0.020691   \n3                                         0.568476   \n4                                         0.775823   \n\n   Nuclei_Texture_SumAverage_DNA_20_0  Nuclei_Texture_SumAverage_Mito_5_0  \\\n0                           -0.643318                           -0.307924   \n1                           -0.161695                           -2.046360   \n2                            0.722674                           -0.759924   \n3                           -0.552219                           -0.770124   \n4                           -0.895731                           -0.762473   \n\n   Nuclei_Texture_SumAverage_RNA_20_0  Nuclei_Texture_SumEntropy_DNA_10_0  \\\n0                           -0.263607                           -0.771062   \n1                           -0.147213                           -0.230816   \n2                           -0.012077                           -0.270183   \n3                           -0.391011                           -0.667111   \n4                           -0.429907                           -0.214208   \n\n   Nuclei_Texture_SumEntropy_DNA_20_0  Nuclei_Texture_SumEntropy_DNA_5_0  \\\n0                           -0.622449                          -0.968180   \n1                           -0.157423                          -0.247806   \n2                           -0.134932                          -0.359148   \n3                           -0.517957                          -0.674251   \n4                           -0.198268                          -0.241933   \n\n   Nuclei_Texture_SumEntropy_RNA_5_0  Nuclei_Texture_Variance_RNA_10_0  \n0                           0.087257                          0.691044  \n1                           0.243377                         -1.196500  \n2                           0.276299                         -0.796096  \n3                           0.022910                         -0.944185  \n4                           0.026243                         -0.849128  \n\n[5 rows x 528 columns]",
      "text/html": "<div>\n<style scoped>\n    .dataframe tbody tr th:only-of-type {\n        vertical-align: middle;\n    }\n\n    .dataframe tbody tr th {\n        vertical-align: top;\n    }\n\n    .dataframe thead th {\n        text-align: right;\n    }\n</style>\n<table border=\"1\" class=\"dataframe\">\n  <thead>\n    <tr style=\"text-align: right;\">\n      <th></th>\n      <th>Metadata_Plate_Map_Name</th>\n      <th>Metadata_cell_id</th>\n      <th>Metadata_broad_sample</th>\n      <th>Metadata_pert_well</th>\n      <th>Metadata_mmoles_per_liter</th>\n      <th>Metadata_dose_recode</th>\n      <th>Metadata_time_point</th>\n      <th>Metadata_moa</th>\n      <th>Metadata_target</th>\n      <th>Cells_AreaShape_Area</th>\n      <th>...</th>\n      <th>Nuclei_Texture_InverseDifferenceMoment_RNA_10_0</th>\n      <th>Nuclei_Texture_InverseDifferenceMoment_RNA_20_0</th>\n      <th>Nuclei_Texture_SumAverage_DNA_20_0</th>\n      <th>Nuclei_Texture_SumAverage_Mito_5_0</th>\n      <th>Nuclei_Texture_SumAverage_RNA_20_0</th>\n      <th>Nuclei_Texture_SumEntropy_DNA_10_0</th>\n      <th>Nuclei_Texture_SumEntropy_DNA_20_0</th>\n      <th>Nuclei_Texture_SumEntropy_DNA_5_0</th>\n      <th>Nuclei_Texture_SumEntropy_RNA_5_0</th>\n      <th>Nuclei_Texture_Variance_RNA_10_0</th>\n    </tr>\n  </thead>\n  <tbody>\n    <tr>\n      <th>0</th>\n      <td>C-7161-01-LM6-001</td>\n      <td>A549</td>\n      <td>BRD-A25234499-001-18-3</td>\n      <td>B13</td>\n      <td>10.00000</td>\n      <td>6</td>\n      <td>48H</td>\n      <td>glucocorticoid receptor antagonist</td>\n      <td>CYP11A1|CYP19A1</td>\n      <td>0.344670</td>\n      <td>...</td>\n      <td>-0.302193</td>\n      <td>-0.262680</td>\n      <td>-0.643318</td>\n      <td>-0.307924</td>\n      <td>-0.263607</td>\n      <td>-0.771062</td>\n      <td>-0.622449</td>\n      <td>-0.968180</td>\n      <td>0.087257</td>\n      <td>0.691044</td>\n    </tr>\n    <tr>\n      <th>1</th>\n      <td>C-7161-01-LM6-001</td>\n      <td>A549</td>\n      <td>BRD-A25234499-001-18-3</td>\n      <td>B14</td>\n      <td>3.33330</td>\n      <td>5</td>\n      <td>48H</td>\n      <td>glucocorticoid receptor antagonist</td>\n      <td>CYP11A1|CYP19A1</td>\n      <td>0.488995</td>\n      <td>...</td>\n      <td>-0.498673</td>\n      <td>0.301335</td>\n      <td>-0.161695</td>\n      <td>-2.046360</td>\n      <td>-0.147213</td>\n      <td>-0.230816</td>\n      <td>-0.157423</td>\n      <td>-0.247806</td>\n      <td>0.243377</td>\n      <td>-1.196500</td>\n    </tr>\n    <tr>\n      <th>2</th>\n      <td>C-7161-01-LM6-001</td>\n      <td>A549</td>\n      <td>BRD-A25234499-001-18-3</td>\n      <td>B15</td>\n      <td>1.11110</td>\n      <td>4</td>\n      <td>48H</td>\n      <td>glucocorticoid receptor antagonist</td>\n      <td>CYP11A1|CYP19A1</td>\n      <td>0.505526</td>\n      <td>...</td>\n      <td>-0.250714</td>\n      <td>-0.020691</td>\n      <td>0.722674</td>\n      <td>-0.759924</td>\n      <td>-0.012077</td>\n      <td>-0.270183</td>\n      <td>-0.134932</td>\n      <td>-0.359148</td>\n      <td>0.276299</td>\n      <td>-0.796096</td>\n    </tr>\n    <tr>\n      <th>3</th>\n      <td>C-7161-01-LM6-001</td>\n      <td>A549</td>\n      <td>BRD-A25234499-001-18-3</td>\n      <td>B16</td>\n      <td>0.37037</td>\n      <td>3</td>\n      <td>48H</td>\n      <td>glucocorticoid receptor antagonist</td>\n      <td>CYP11A1|CYP19A1</td>\n      <td>0.092069</td>\n      <td>...</td>\n      <td>-0.338021</td>\n      <td>0.568476</td>\n      <td>-0.552219</td>\n      <td>-0.770124</td>\n      <td>-0.391011</td>\n      <td>-0.667111</td>\n      <td>-0.517957</td>\n      <td>-0.674251</td>\n      <td>0.022910</td>\n      <td>-0.944185</td>\n    </tr>\n    <tr>\n      <th>4</th>\n      <td>C-7161-01-LM6-001</td>\n      <td>A549</td>\n      <td>BRD-A25234499-001-18-3</td>\n      <td>B17</td>\n      <td>0.12346</td>\n      <td>2</td>\n      <td>48H</td>\n      <td>glucocorticoid receptor antagonist</td>\n      <td>CYP11A1|CYP19A1</td>\n      <td>0.705527</td>\n      <td>...</td>\n      <td>-0.277073</td>\n      <td>0.775823</td>\n      <td>-0.895731</td>\n      <td>-0.762473</td>\n      <td>-0.429907</td>\n      <td>-0.214208</td>\n      <td>-0.198268</td>\n      <td>-0.241933</td>\n      <td>0.026243</td>\n      <td>-0.849128</td>\n    </tr>\n  </tbody>\n</table>\n<p>5 rows × 528 columns</p>\n</div>"
     },
     "execution_count": 16,
     "metadata": {},
     "output_type": "execute_result"
    }
   ],
   "source": [
    "print(df.shape)\n",
    "#metadata_columns = [x for x in df.columns if (x.startswith(\"Metadata_\"))]\n",
    "#print(len(metadata_columns))\n",
    "df.head()"
   ],
   "metadata": {
    "collapsed": false,
    "pycharm": {
     "name": "#%%\n"
    }
   }
  },
  {
   "cell_type": "code",
   "execution_count": 35,
   "outputs": [
    {
     "data": {
      "text/plain": "1571"
     },
     "execution_count": 35,
     "metadata": {},
     "output_type": "execute_result"
    }
   ],
   "source": [
    "features = infer_cp_features(df)\n",
    "meta_features = infer_cp_features(df, metadata=True)\n",
    "len(df.Metadata_broad_sample.unique())"
   ],
   "metadata": {
    "collapsed": false,
    "pycharm": {
     "name": "#%%\n"
    }
   }
  },
  {
   "cell_type": "code",
   "execution_count": 20,
   "outputs": [
    {
     "data": {
      "text/plain": "602"
     },
     "execution_count": 20,
     "metadata": {},
     "output_type": "execute_result"
    }
   ],
   "source": [
    "moa_labels = df.Metadata_moa.unique()\n",
    "len(moa_labels)"
   ],
   "metadata": {
    "collapsed": false,
    "pycharm": {
     "name": "#%%\n"
    }
   }
  },
  {
   "cell_type": "markdown",
   "source": [
    "### Part 2: Replicate reproducibility\n",
    "\n",
    "`operation=\"precision_recall\"`\n",
    "\n",
    "To calculate precision recall for every perturbation, we first rank order all perturbations by pairwise correlations.\n",
    "We use a user-defined `k` as a threshold for calling hits.\n",
    "\n",
    "The operation is done for all moa ground truths"
   ],
   "metadata": {
    "collapsed": false,
    "pycharm": {
     "name": "#%% md\n"
    }
   }
  },
  {
   "cell_type": "code",
   "execution_count": 41,
   "outputs": [],
   "source": [
    "precision_recall_at_k = []\n",
    "\n",
    "for moa in moa_labels:\n",
    "    moa_df = df.query(\"Metadata_moa == @moa\")\n",
    "\n",
    "    for k in [2, 5, 10, 15, 25]:\n",
    "\n",
    "        precision_recall_results = evaluate(\n",
    "            profiles=moa_df,\n",
    "            features=features,\n",
    "            meta_features=meta_features,\n",
    "            replicate_groups=[\"Metadata_moa\", \"Metadata_broad_sample\"],\n",
    "            operation=\"precision_recall\",\n",
    "            similarity_metric=\"pearson\",\n",
    "            precision_recall_k=k\n",
    "        ).assign(moa=moa)\n",
    "\n",
    "        precision_recall_at_k.append(precision_recall_results)"
   ],
   "metadata": {
    "collapsed": false,
    "pycharm": {
     "name": "#%%\n"
    }
   }
  },
  {
   "cell_type": "code",
   "execution_count": 42,
   "outputs": [
    {
     "name": "stdout",
     "output_type": "stream",
     "text": [
      "(7855, 6)\n"
     ]
    },
    {
     "data": {
      "text/plain": "                         Metadata_moa   Metadata_broad_sample     k  \\\n0  glucocorticoid receptor antagonist  BRD-A25234499-001-18-3   2.0   \n1  glucocorticoid receptor antagonist  BRD-A25234499-001-18-3   5.0   \n2  glucocorticoid receptor antagonist  BRD-A25234499-001-18-3  10.0   \n3  glucocorticoid receptor antagonist  BRD-A25234499-001-18-3  15.0   \n4  glucocorticoid receptor antagonist  BRD-A25234499-001-18-3  25.0   \n\n   precision    recall                                 moa  \n0        1.0  0.066667  glucocorticoid receptor antagonist  \n1        1.0  0.166667  glucocorticoid receptor antagonist  \n2        1.0  0.333333  glucocorticoid receptor antagonist  \n3        1.0  0.500000  glucocorticoid receptor antagonist  \n4        1.0  0.833333  glucocorticoid receptor antagonist  ",
      "text/html": "<div>\n<style scoped>\n    .dataframe tbody tr th:only-of-type {\n        vertical-align: middle;\n    }\n\n    .dataframe tbody tr th {\n        vertical-align: top;\n    }\n\n    .dataframe thead th {\n        text-align: right;\n    }\n</style>\n<table border=\"1\" class=\"dataframe\">\n  <thead>\n    <tr style=\"text-align: right;\">\n      <th></th>\n      <th>Metadata_moa</th>\n      <th>Metadata_broad_sample</th>\n      <th>k</th>\n      <th>precision</th>\n      <th>recall</th>\n      <th>moa</th>\n    </tr>\n  </thead>\n  <tbody>\n    <tr>\n      <th>0</th>\n      <td>glucocorticoid receptor antagonist</td>\n      <td>BRD-A25234499-001-18-3</td>\n      <td>2.0</td>\n      <td>1.0</td>\n      <td>0.066667</td>\n      <td>glucocorticoid receptor antagonist</td>\n    </tr>\n    <tr>\n      <th>1</th>\n      <td>glucocorticoid receptor antagonist</td>\n      <td>BRD-A25234499-001-18-3</td>\n      <td>5.0</td>\n      <td>1.0</td>\n      <td>0.166667</td>\n      <td>glucocorticoid receptor antagonist</td>\n    </tr>\n    <tr>\n      <th>2</th>\n      <td>glucocorticoid receptor antagonist</td>\n      <td>BRD-A25234499-001-18-3</td>\n      <td>10.0</td>\n      <td>1.0</td>\n      <td>0.333333</td>\n      <td>glucocorticoid receptor antagonist</td>\n    </tr>\n    <tr>\n      <th>3</th>\n      <td>glucocorticoid receptor antagonist</td>\n      <td>BRD-A25234499-001-18-3</td>\n      <td>15.0</td>\n      <td>1.0</td>\n      <td>0.500000</td>\n      <td>glucocorticoid receptor antagonist</td>\n    </tr>\n    <tr>\n      <th>4</th>\n      <td>glucocorticoid receptor antagonist</td>\n      <td>BRD-A25234499-001-18-3</td>\n      <td>25.0</td>\n      <td>1.0</td>\n      <td>0.833333</td>\n      <td>glucocorticoid receptor antagonist</td>\n    </tr>\n  </tbody>\n</table>\n</div>"
     },
     "execution_count": 42,
     "metadata": {},
     "output_type": "execute_result"
    }
   ],
   "source": [
    "df_precision_recall_at_k = pd.concat(precision_recall_at_k).reset_index(drop=True)\n",
    "print(df_precision_recall_at_k.shape)\n",
    "df_precision_recall_at_k.head()"
   ],
   "metadata": {
    "collapsed": false,
    "pycharm": {
     "name": "#%%\n"
    }
   }
  },
  {
   "cell_type": "code",
   "execution_count": 49,
   "outputs": [],
   "source": [
    "df_res = df_precision_recall_at_k.copy()"
   ],
   "metadata": {
    "collapsed": false,
    "pycharm": {
     "name": "#%%\n"
    }
   }
  },
  {
   "cell_type": "code",
   "execution_count": 51,
   "outputs": [
    {
     "data": {
      "text/plain": "                         Metadata_moa   Metadata_broad_sample     k  \\\n0  glucocorticoid receptor antagonist  BRD-A25234499-001-18-3   2.0   \n1  glucocorticoid receptor antagonist  BRD-A25234499-001-18-3   5.0   \n2  glucocorticoid receptor antagonist  BRD-A25234499-001-18-3  10.0   \n3  glucocorticoid receptor antagonist  BRD-A25234499-001-18-3  15.0   \n4  glucocorticoid receptor antagonist  BRD-A25234499-001-18-3  25.0   \n\n   precision    recall                                 moa  \n0        1.0  0.066667  glucocorticoid receptor antagonist  \n1        1.0  0.166667  glucocorticoid receptor antagonist  \n2        1.0  0.333333  glucocorticoid receptor antagonist  \n3        1.0  0.500000  glucocorticoid receptor antagonist  \n4        1.0  0.833333  glucocorticoid receptor antagonist  ",
      "text/html": "<div>\n<style scoped>\n    .dataframe tbody tr th:only-of-type {\n        vertical-align: middle;\n    }\n\n    .dataframe tbody tr th {\n        vertical-align: top;\n    }\n\n    .dataframe thead th {\n        text-align: right;\n    }\n</style>\n<table border=\"1\" class=\"dataframe\">\n  <thead>\n    <tr style=\"text-align: right;\">\n      <th></th>\n      <th>Metadata_moa</th>\n      <th>Metadata_broad_sample</th>\n      <th>k</th>\n      <th>precision</th>\n      <th>recall</th>\n      <th>moa</th>\n    </tr>\n  </thead>\n  <tbody>\n    <tr>\n      <th>0</th>\n      <td>glucocorticoid receptor antagonist</td>\n      <td>BRD-A25234499-001-18-3</td>\n      <td>2.0</td>\n      <td>1.0</td>\n      <td>0.066667</td>\n      <td>glucocorticoid receptor antagonist</td>\n    </tr>\n    <tr>\n      <th>1</th>\n      <td>glucocorticoid receptor antagonist</td>\n      <td>BRD-A25234499-001-18-3</td>\n      <td>5.0</td>\n      <td>1.0</td>\n      <td>0.166667</td>\n      <td>glucocorticoid receptor antagonist</td>\n    </tr>\n    <tr>\n      <th>2</th>\n      <td>glucocorticoid receptor antagonist</td>\n      <td>BRD-A25234499-001-18-3</td>\n      <td>10.0</td>\n      <td>1.0</td>\n      <td>0.333333</td>\n      <td>glucocorticoid receptor antagonist</td>\n    </tr>\n    <tr>\n      <th>3</th>\n      <td>glucocorticoid receptor antagonist</td>\n      <td>BRD-A25234499-001-18-3</td>\n      <td>15.0</td>\n      <td>1.0</td>\n      <td>0.500000</td>\n      <td>glucocorticoid receptor antagonist</td>\n    </tr>\n    <tr>\n      <th>4</th>\n      <td>glucocorticoid receptor antagonist</td>\n      <td>BRD-A25234499-001-18-3</td>\n      <td>25.0</td>\n      <td>1.0</td>\n      <td>0.833333</td>\n      <td>glucocorticoid receptor antagonist</td>\n    </tr>\n  </tbody>\n</table>\n</div>"
     },
     "execution_count": 51,
     "metadata": {},
     "output_type": "execute_result"
    }
   ],
   "source": [
    "df_res.loc[df_res['Metadata_moa'] == \"glucocorticoid receptor antagonist\"]"
   ],
   "metadata": {
    "collapsed": false,
    "pycharm": {
     "name": "#%%\n"
    }
   }
  },
  {
   "cell_type": "code",
   "execution_count": 59,
   "outputs": [],
   "source": [
    "pr_av = []\n",
    "for k in df_res.k.unique():\n",
    "    pr_av.append(df_res.loc[df_res.k == k].mean().tolist())"
   ],
   "metadata": {
    "collapsed": false,
    "pycharm": {
     "name": "#%%\n"
    }
   }
  },
  {
   "cell_type": "code",
   "execution_count": 60,
   "outputs": [
    {
     "data": {
      "text/plain": "[[2.0, 0.5432845321451305, 0.03611289905871458],\n [5.0, 0.5437301082113304, 0.09032469194525412],\n [10.0, 0.5394653087205602, 0.17922778830367803],\n [15.0, 0.5311266709102482, 0.2646723656720743],\n [25.0, 0.5113430935709739, 0.42461307709333834]]"
     },
     "execution_count": 60,
     "metadata": {},
     "output_type": "execute_result"
    }
   ],
   "source": [
    "pr_av"
   ],
   "metadata": {
    "collapsed": false,
    "pycharm": {
     "name": "#%%\n"
    }
   }
  }
 ],
 "metadata": {
  "kernelspec": {
   "name": "pycharm-f57c4e3b",
   "language": "python",
   "display_name": "PyCharm (git)"
  },
  "language_info": {
   "codemirror_mode": {
    "name": "ipython",
    "version": 2
   },
   "file_extension": ".py",
   "mimetype": "text/x-python",
   "name": "python",
   "nbconvert_exporter": "python",
   "pygments_lexer": "ipython2",
   "version": "2.7.6"
  }
 },
 "nbformat": 4,
 "nbformat_minor": 0
}