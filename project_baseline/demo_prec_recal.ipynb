{
 "cells": [
  {
   "cell_type": "markdown",
   "metadata": {
    "collapsed": true,
    "pycharm": {
     "name": "#%% md\n"
    }
   },
   "source": [
    "# Precision recall analysis\n",
    "\n",
    "Use cytominer eval to calculate Precision recall @k"
   ]
  },
  {
   "cell_type": "code",
   "execution_count": 1,
   "outputs": [],
   "source": [
    "import os\n",
    "import pandas as pd\n",
    "import numpy as np\n",
    "from sklearn import preprocessing\n",
    "#import plotnine as gg\n",
    "\n",
    "from cytominer_eval import evaluate\n",
    "from pycytominer.cyto_utils import infer_cp_features"
   ],
   "metadata": {
    "collapsed": false,
    "pycharm": {
     "name": "#%%\n"
    }
   }
  },
  {
   "cell_type": "code",
   "execution_count": 2,
   "outputs": [],
   "source": [
    "data_loc = '/Users/mbornhol/git/lincs-cell-painting/consensus/2016_04_01_a549_48hr_batch1'\n",
    "#'2016_04_01_a549_48hr_batch1_consensus_modz_feature_select_dmso.csv.gz'\n",
    "file_name = '2016_04_01_a549_48hr_batch1_consensus_modz_feature_select.csv.gz'\n",
    "name = os.path.join(data_loc, file_name)\n",
    "df = pd.read_csv(name)\n",
    "#df = df.drop(columns  = ['Nuclei_AreaShape_MedianRadius','Cells_Correlation_Manders_AGP_RNA','Cells_Neighbors_NumberOfNeighbors_10'])"
   ],
   "metadata": {
    "collapsed": false,
    "pycharm": {
     "name": "#%%\n"
    }
   }
  },
  {
   "cell_type": "code",
   "execution_count": 13,
   "outputs": [
    {
     "name": "stdout",
     "output_type": "stream",
     "text": [
      "(10752, 528)\n"
     ]
    }
   ],
   "source": [
    "data_dir = 'data/2016_04_01_a549_48hr_batch1_consensus_modz_feature_select_dmso.csv.gz'\n",
    "df = pd.read_csv(data_dir)\n",
    "print(df.shape)\n",
    "features = infer_cp_features(df)\n",
    "meta_features = infer_cp_features(df, metadata=True)"
   ],
   "metadata": {
    "collapsed": false,
    "pycharm": {
     "name": "#%%\n"
    }
   }
  },
  {
   "cell_type": "code",
   "execution_count": 16,
   "outputs": [
    {
     "name": "stdout",
     "output_type": "stream",
     "text": [
      "dropped 0 features\n",
      "624\n",
      "1571\n"
     ]
    }
   ],
   "source": [
    "# Clean data\n",
    "def drop_bad_feats(df_old, features_old, threshold):\n",
    "    drop_features = []\n",
    "    for feat in features_old:\n",
    "        if (np.abs(df_old[feat]) > threshold).any():\n",
    "            drop_features.append(feat)\n",
    "    df_clean = df.drop(drop_features,  axis = \"columns\")\n",
    "    print(\"dropped {} features\".format(len(drop_features)))\n",
    "    return df_clean\n",
    "\n",
    "df = drop_bad_feats(df, features, 100)\n",
    "features = infer_cp_features(df)\n",
    "meta_features = infer_cp_features(df, metadata=True)\n",
    "ls = df.Metadata_moa.unique()[:15].tolist()\n",
    "selected_moa= df.query(\"Metadata_moa==@ls\")\n",
    "print(len(selected_moa))\n",
    "print(len(df.Metadata_broad_sample.unique()))"
   ],
   "metadata": {
    "collapsed": false,
    "pycharm": {
     "name": "#%%\n"
    }
   }
  },
  {
   "cell_type": "markdown",
   "source": [
    "Scaling\n",
    "\n",
    "| # rows      | time in sec |\n",
    "| ----------- | ----------- |\n",
    "| 168      | 0.3       |\n",
    "| 360   | 1.1        |\n",
    "| 1000   | 8.8       |\n",
    "| 1800   | 27.8        |\n",
    "| 4200  | 478       |\n",
    "\n",
    "Its almost O(n**3)"
   ],
   "metadata": {
    "collapsed": false
   }
  },
  {
   "cell_type": "code",
   "execution_count": 9,
   "outputs": [
    {
     "name": "stdout",
     "output_type": "stream",
     "text": [
      "2.4211562069999957\n"
     ]
    }
   ],
   "source": [],
   "metadata": {
    "collapsed": false,
    "pycharm": {
     "name": "#%%\n"
    }
   }
  },
  {
   "cell_type": "code",
   "execution_count": 18,
   "outputs": [],
   "source": [
    "precision_recall_at_k = []\n",
    "\n",
    "for k in [5, 10, 15, 20, 25]:\n",
    "    precision_recall_results = evaluate(\n",
    "        profiles=selected_moa,\n",
    "        features=features,\n",
    "        meta_features=meta_features,\n",
    "        replicate_groups=[\"Metadata_broad_sample\"],\n",
    "        operation=\"precision_recall\",\n",
    "        similarity_metric=\"pearson\",\n",
    "        precision_recall_k=k\n",
    "    )\n",
    "    precision_recall_at_k.append(precision_recall_results)\n",
    "\n",
    "df_res_1 = pd.concat(precision_recall_at_k).reset_index(drop=True)\n",
    "\n",
    "pr_av = []\n",
    "for k in df_res_1.k.unique():\n",
    "    pr_av.append(df_res_1.query(\"k==@k\").mean().tolist())\n",
    "result = pd.DataFrame(pr_av, columns=[\"k\",\"precision\",\"recal\"])"
   ],
   "metadata": {
    "collapsed": false,
    "pycharm": {
     "name": "#%%\n"
    }
   }
  },
  {
   "cell_type": "code",
   "execution_count": 19,
   "outputs": [
    {
     "data": {
      "text/plain": "<AxesSubplot:xlabel='k'>"
     },
     "execution_count": 19,
     "metadata": {},
     "output_type": "execute_result"
    },
    {
     "data": {
      "text/plain": "<Figure size 432x288 with 1 Axes>",
      "image/png": "[encoded data removed]"
     },
     "metadata": {
      "needs_background": "light"
     },
     "output_type": "display_data"
    }
   ],
   "source": [
    "result.plot(x='k', y='precision')"
   ],
   "metadata": {
    "collapsed": false,
    "pycharm": {
     "name": "#%%\n"
    }
   }
  },
  {
   "cell_type": "code",
   "execution_count": null,
   "outputs": [],
   "source": [],
   "metadata": {
    "collapsed": false,
    "pycharm": {
     "name": "#%%\n"
    }
   }
  }
 ],
 "metadata": {
  "kernelspec": {
   "name": "pycharm-f57c4e3b",
   "language": "python",
   "display_name": "PyCharm (git)"
  },
  "language_info": {
   "codemirror_mode": {
    "name": "ipython",
    "version": 2
   },
   "file_extension": ".py",
   "mimetype": "text/x-python",
   "name": "python",
   "nbconvert_exporter": "python",
   "pygments_lexer": "ipython2",
   "version": "2.7.6"
  }
 },
 "nbformat": 4,
 "nbformat_minor": 0
}