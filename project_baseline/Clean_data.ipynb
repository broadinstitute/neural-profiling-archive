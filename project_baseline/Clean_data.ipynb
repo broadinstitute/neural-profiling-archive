{
 "cells": [
  {
   "cell_type": "markdown",
   "source": [
    "We are analysing the L5 date from LINCS data from\n",
    "https://github.com/broadinstitute/lincs-cell-painting/tree/master/consensus/2016_04_01_a549_48hr_batch1"
   ],
   "metadata": {
    "collapsed": false
   }
  },
  {
   "cell_type": "code",
   "execution_count": 5,
   "outputs": [],
   "source": [
    "import os\n",
    "import pandas as pd\n",
    "import numpy as np\n",
    "import matplotlib.pyplot as plt\n",
    "from sklearn import preprocessing\n",
    "from cytominer_eval import evaluate\n",
    "from pycytominer.cyto_utils import infer_cp_features"
   ],
   "metadata": {
    "collapsed": false,
    "pycharm": {
     "name": "#%%\n"
    }
   }
  },
  {
   "cell_type": "code",
   "execution_count": 59,
   "outputs": [
    {
     "name": "stdout",
     "output_type": "stream",
     "text": [
      "(10752, 528)\n"
     ]
    },
    {
     "data": {
      "text/plain": "1571"
     },
     "execution_count": 59,
     "metadata": {},
     "output_type": "execute_result"
    }
   ],
   "source": [
    "data_dir = 'data/2016_04_01_a549_48hr_batch1_consensus_modz_feature_select_dmso.csv.gz'\n",
    "df = pd.read_csv(data_dir)\n",
    "print(df.shape)\n",
    "features = infer_cp_features(df)\n",
    "meta_features = infer_cp_features(df, metadata=True)\n",
    "len(df.Metadata_broad_sample.unique())"
   ],
   "metadata": {
    "collapsed": false,
    "pycharm": {
     "name": "#%%\n"
    }
   }
  },
  {
   "cell_type": "markdown",
   "source": [
    "The data has large deviations!\n",
    "We need to delete all features that have very large values.\n",
    "Some example below:\n",
    "BRD-A26334849-001-06-2\n",
    "BRD-A25234499-001-18-3"
   ],
   "metadata": {
    "collapsed": false,
    "pycharm": {
     "name": "#%% md\n"
    }
   }
  },
  {
   "cell_type": "code",
   "execution_count": 58,
   "outputs": [
    {
     "data": {
      "text/plain": "<Figure size 432x288 with 1 Axes>",
      "image/png": "[encoded data removed]"
     },
     "metadata": {
      "needs_background": "light"
     },
     "output_type": "display_data"
    }
   ],
   "source": [
    "s1 = \"BRD-A26334849-001-06-2\"\n",
    "s2 = \"BRD-A25234499-001-18-3\"\n",
    "two = pd.concat([\n",
    "df.query(\"Metadata_broad_sample==@s1  & Metadata_mmoles_per_liter == 10.0\"),\n",
    "df.query(\"Metadata_broad_sample==@s2  & Metadata_mmoles_per_liter == 10.0\")\n",
    "    ], ignore_index=True)\n",
    "two = two.loc[:, features]\n",
    "two = two.T\n",
    "two.columns = ['One','Two']\n",
    "\n",
    "fig = plt.figure()\n",
    "ax = plt.gca()\n",
    "ax.plot(two['One'] ,two['Two'], 'o', c='blue', alpha=0.5, markeredgecolor='red')\n",
    "ax.set_xscale('log')\n",
    "ax.set_yscale('log')\n",
    "plt.show()"
   ],
   "metadata": {
    "collapsed": false,
    "pycharm": {
     "name": "#%%\n"
    }
   }
  },
  {
   "cell_type": "code",
   "execution_count": 56,
   "outputs": [
    {
     "name": "stdout",
     "output_type": "stream",
     "text": [
      "Total number of features: 493\n",
      "want to drop 6 features\n"
     ]
    }
   ],
   "source": [
    "# looking for the bad apples.\n",
    "print(\"Total number of features:\", len(features))\n",
    "count = 0\n",
    "for feature in features:\n",
    "    if (np.abs(df[feature]) > 100).any():\n",
    "        count += 1\n",
    "print(\"want to drop\", count, \"features\")"
   ],
   "metadata": {
    "collapsed": false,
    "pycharm": {
     "name": "#%%\n"
    }
   }
  },
  {
   "cell_type": "code",
   "execution_count": 66,
   "outputs": [
    {
     "name": "stdout",
     "output_type": "stream",
     "text": [
      "dropped 32 features\n"
     ]
    }
   ],
   "source": [
    "def drop_bad_feats(df_old, features_old, threshold):\n",
    "    drop_features = []\n",
    "    for feat in features_old:\n",
    "        if (np.abs(df_old[feat]) > threshold).any():\n",
    "            drop_features.append(feat)\n",
    "    df_clean = df.drop(drop_features,  axis = \"columns\")\n",
    "    print(\"dropped {} features\".format(len(drop_features)))\n",
    "    return df_clean\n",
    "df_clean = drop_bad_feats(df, features, 100)"
   ],
   "metadata": {
    "collapsed": false,
    "pycharm": {
     "name": "#%%\n"
    }
   }
  },
  {
   "cell_type": "markdown",
   "source": [
    "First compute Precision and Enrichment with old features\n"
   ],
   "metadata": {
    "collapsed": false,
    "pycharm": {
     "name": "#%% md\n"
    }
   }
  },
  {
   "cell_type": "code",
   "execution_count": 67,
   "outputs": [
    {
     "name": "stdout",
     "output_type": "stream",
     "text": [
      "(10752, 528)\n"
     ]
    },
    {
     "data": {
      "text/plain": "      k  precision     recal\n0   2.0   0.034759  0.002317\n1   5.0   0.025668  0.004278\n2  10.0   0.026203  0.008021\n3  20.0   0.027540  0.017112",
      "text/html": "<div>\n<style scoped>\n    .dataframe tbody tr th:only-of-type {\n        vertical-align: middle;\n    }\n\n    .dataframe tbody tr th {\n        vertical-align: top;\n    }\n\n    .dataframe thead th {\n        text-align: right;\n    }\n</style>\n<table border=\"1\" class=\"dataframe\">\n  <thead>\n    <tr style=\"text-align: right;\">\n      <th></th>\n      <th>k</th>\n      <th>precision</th>\n      <th>recal</th>\n    </tr>\n  </thead>\n  <tbody>\n    <tr>\n      <th>0</th>\n      <td>2.0</td>\n      <td>0.034759</td>\n      <td>0.002317</td>\n    </tr>\n    <tr>\n      <th>1</th>\n      <td>5.0</td>\n      <td>0.025668</td>\n      <td>0.004278</td>\n    </tr>\n    <tr>\n      <th>2</th>\n      <td>10.0</td>\n      <td>0.026203</td>\n      <td>0.008021</td>\n    </tr>\n    <tr>\n      <th>3</th>\n      <td>20.0</td>\n      <td>0.027540</td>\n      <td>0.017112</td>\n    </tr>\n  </tbody>\n</table>\n</div>"
     },
     "execution_count": 67,
     "metadata": {},
     "output_type": "execute_result"
    }
   ],
   "source": [
    "data_dir = 'data/2016_04_01_a549_48hr_batch1_consensus_modz_feature_select_dmso.csv.gz'\n",
    "df = pd.read_csv(data_dir)\n",
    "print(df.shape)\n",
    "features = infer_cp_features(df)\n",
    "meta_features = infer_cp_features(df, metadata=True)\n",
    "len(df.Metadata_broad_sample.unique())\n",
    "\n",
    "ls = df.Metadata_moa.unique()[:20].tolist()\n",
    "selected_moa= df.query(\"Metadata_moa==@ls\")\n",
    "len(selected_moa)\n",
    "\n",
    "precision_recall_at_k = []\n",
    "for k in [2, 5, 10, 20]:\n",
    "    precision_recall_results = evaluate(\n",
    "        profiles=selected_moa,\n",
    "        features=features,\n",
    "        meta_features=meta_features,\n",
    "        replicate_groups=[\"Metadata_broad_sample\"],\n",
    "        operation=\"precision_recall\",\n",
    "        similarity_metric=\"pearson\",\n",
    "        precision_recall_k=k\n",
    "    )\n",
    "    precision_recall_at_k.append(precision_recall_results)\n",
    "df_res = pd.concat(precision_recall_at_k).reset_index(drop=True)\n",
    "pr_av = []\n",
    "for k in df_res.k.unique():\n",
    "    pr_av.append(df_res.query(\"k==@k\").mean().tolist())\n",
    "pd.DataFrame(pr_av, columns=[\"k\",\"precision\",\"recal\"])"
   ],
   "metadata": {
    "collapsed": false,
    "pycharm": {
     "name": "#%%\n"
    }
   }
  },
  {
   "cell_type": "code",
   "execution_count": null,
   "outputs": [],
   "source": [
    "replicate_groups=['Metadata_moa']\n",
    "result = []\n",
    "\n",
    "for p in np.arange(0.995, 0.97, -0.005):\n",
    "    r = evaluate(\n",
    "        profiles=selected_moa,\n",
    "        features=features,\n",
    "        meta_features=meta_features,\n",
    "        replicate_groups=replicate_groups,\n",
    "        operation=\"enrichment\",\n",
    "        similarity_metric=\"pearson\",\n",
    "        percentile=p,\n",
    "    )\n",
    "    result.append(r)\n",
    "result_df = pd.DataFrame(result)\n",
    "result_df[[\"percentile\",\"ods_ratio\"]]"
   ],
   "metadata": {
    "collapsed": false,
    "pycharm": {
     "name": "#%%\n"
    }
   }
  },
  {
   "cell_type": "markdown",
   "source": [
    "Now compare the effect of improvement"
   ],
   "metadata": {
    "collapsed": false,
    "pycharm": {
     "name": "#%% md\n"
    }
   }
  },
  {
   "cell_type": "code",
   "execution_count": 69,
   "outputs": [
    {
     "name": "stdout",
     "output_type": "stream",
     "text": [
      "dropped 32 features\n",
      "1788\n"
     ]
    },
    {
     "data": {
      "text/plain": "      k  precision     recal\n0   2.0   0.655080  0.043316\n1   5.0   0.601070  0.099465\n2  10.0   0.511230  0.168984\n3  20.0   0.415775  0.274688",
      "text/html": "<div>\n<style scoped>\n    .dataframe tbody tr th:only-of-type {\n        vertical-align: middle;\n    }\n\n    .dataframe tbody tr th {\n        vertical-align: top;\n    }\n\n    .dataframe thead th {\n        text-align: right;\n    }\n</style>\n<table border=\"1\" class=\"dataframe\">\n  <thead>\n    <tr style=\"text-align: right;\">\n      <th></th>\n      <th>k</th>\n      <th>precision</th>\n      <th>recal</th>\n    </tr>\n  </thead>\n  <tbody>\n    <tr>\n      <th>0</th>\n      <td>2.0</td>\n      <td>0.655080</td>\n      <td>0.043316</td>\n    </tr>\n    <tr>\n      <th>1</th>\n      <td>5.0</td>\n      <td>0.601070</td>\n      <td>0.099465</td>\n    </tr>\n    <tr>\n      <th>2</th>\n      <td>10.0</td>\n      <td>0.511230</td>\n      <td>0.168984</td>\n    </tr>\n    <tr>\n      <th>3</th>\n      <td>20.0</td>\n      <td>0.415775</td>\n      <td>0.274688</td>\n    </tr>\n  </tbody>\n</table>\n</div>"
     },
     "execution_count": 69,
     "metadata": {},
     "output_type": "execute_result"
    }
   ],
   "source": [
    "data_dir = 'data/2016_04_01_a549_48hr_batch1_consensus_modz_feature_select_dmso.csv.gz'\n",
    "df = pd.read_csv(data_dir)\n",
    "df_clean = drop_bad_feats(df, features, 100)\n",
    "features = infer_cp_features(df_clean)\n",
    "meta_features = infer_cp_features(df_clean, metadata=True)\n",
    "ls = df_clean.Metadata_moa.unique()[:20].tolist()\n",
    "selected_moa= df_clean.query(\"Metadata_moa==@ls\")\n",
    "print(len(selected_moa))\n",
    "\n",
    "precision_recall_at_k = []\n",
    "for k in [2, 5, 10, 20]:\n",
    "    precision_recall_results = evaluate(\n",
    "        profiles=selected_moa,\n",
    "        features=features,\n",
    "        meta_features=meta_features,\n",
    "        replicate_groups=[\"Metadata_broad_sample\"],\n",
    "        operation=\"precision_recall\",\n",
    "        similarity_metric=\"pearson\",\n",
    "        precision_recall_k=k\n",
    "    )\n",
    "    precision_recall_at_k.append(precision_recall_results)\n",
    "df_res = pd.concat(precision_recall_at_k).reset_index(drop=True)\n",
    "pr_av = []\n",
    "for k in df_res.k.unique():\n",
    "    pr_av.append(df_res.query(\"k==@k\").mean().tolist())\n",
    "pd.DataFrame(pr_av, columns=[\"k\",\"precision\",\"recal\"])"
   ],
   "metadata": {
    "collapsed": false,
    "pycharm": {
     "name": "#%%\n"
    }
   }
  },
  {
   "cell_type": "code",
   "execution_count": null,
   "outputs": [],
   "source": [],
   "metadata": {
    "collapsed": false,
    "pycharm": {
     "name": "#%%\n"
    }
   }
  }
 ],
 "metadata": {
  "kernelspec": {
   "name": "pycharm-f57c4e3b",
   "language": "python",
   "display_name": "PyCharm (git)"
  },
  "language_info": {
   "codemirror_mode": {
    "name": "ipython",
    "version": 2
   },
   "file_extension": ".py",
   "mimetype": "text/x-python",
   "name": "python",
   "nbconvert_exporter": "python",
   "pygments_lexer": "ipython2",
   "version": "2.7.6"
  }
 },
 "nbformat": 4,
 "nbformat_minor": 0
}