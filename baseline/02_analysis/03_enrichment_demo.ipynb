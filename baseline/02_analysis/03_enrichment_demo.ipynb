{
 "cells": [
  {
   "cell_type": "markdown",
   "metadata": {
    "collapsed": true,
    "pycharm": {
     "name": "#%% md\n"
    }
   },
   "source": [
    "# Enrichment analysis\n",
    "This is a notebook giving an example runthrough of how to do an enrichment analysis of processed data.\n",
    "It makes use of the cytominer_eval functions built by Greg and myself."
   ]
  },
  {
   "cell_type": "code",
   "execution_count": 14,
   "outputs": [],
   "source": [
    "import pandas as pd\n",
    "import numpy as np\n",
    "from cytominer_eval import evaluate\n",
    "from pycytominer.cyto_utils import infer_cp_features\n",
    "import matplotlib.pyplot as plt\n",
    "import pandas as pd\n",
    "import sys\n",
    "sys.path.insert(0, \"/Users/mbornhol/git/neural-profiling\")\n",
    "from utils import data_selection as ds"
   ],
   "metadata": {
    "collapsed": false,
    "pycharm": {
     "name": "#%%\n"
    }
   }
  },
  {
   "cell_type": "code",
   "execution_count": 20,
   "outputs": [],
   "source": [
    "# import selected data from 02_clean_data.ipyvn\n",
    "data_dir = '../01_data/2016_04_01_a549_48hr_batch1_consensus_modz_feature_select_dmso.csv.gz'\n",
    "df = pd.read_csv(data_dir)"
   ],
   "metadata": {
    "collapsed": false,
    "pycharm": {
     "name": "#%%\n"
    }
   }
  },
  {
   "cell_type": "code",
   "execution_count": 21,
   "outputs": [
    {
     "name": "stdout",
     "output_type": "stream",
     "text": [
      "dropped 136 features\n"
     ]
    },
    {
     "data": {
      "text/plain": "  Metadata_Plate_Map_Name Metadata_cell_id   Metadata_broad_sample  \\\n1       C-7161-01-LM6-001             A549  BRD-A26032986-050-02-1   \n2       C-7161-01-LM6-001             A549  BRD-A26095496-001-04-0   \n4       C-7161-01-LM6-001             A549  BRD-A26690767-066-01-9   \n5       C-7161-01-LM6-001             A549  BRD-A26711594-003-10-6   \n7       C-7161-01-LM6-001             A549  BRD-A27732521-003-08-3   \n\n  Metadata_pert_well  Metadata_mmoles_per_liter  Metadata_dose_recode  \\\n1                C13                       10.0                     6   \n2                D13                       10.0                     6   \n4                E13                       10.0                     6   \n5                E19                       10.0                     6   \n7                H01                       10.0                     6   \n\n  Metadata_time_point                          Metadata_moa Metadata_target  \\\n1                 48H                 calmodulin antagonist           CALM1   \n2                 48H       glucocorticoid receptor agonist   NR3C1|PLA2G1B   \n4                 48H                HIV protease inhibitor          CYP3A4   \n5                 48H               calcium channel blocker          ADORA3   \n7                 48H  voltage-gated sodium channel blocker  CYP2C19|CYP2D6   \n\n   Cells_AreaShape_FormFactor  ...  Nuclei_Texture_InfoMeas2_RNA_10_0  \\\n1                   -0.187122  ...                          -0.819698   \n2                   -5.044600  ...                          -1.238960   \n4                   -0.416026  ...                          -1.566370   \n5                   -1.611640  ...                          -0.990629   \n7                   -0.560182  ...                           0.892780   \n\n   Nuclei_Texture_InfoMeas2_RNA_20_0  \\\n1                          -0.948205   \n2                          -0.635335   \n4                          -1.608230   \n5                          -1.320840   \n7                           0.750292   \n\n   Nuclei_Texture_InverseDifferenceMoment_AGP_5_0  \\\n1                                        0.033384   \n2                                       -2.338720   \n4                                       -0.868957   \n5                                        0.637082   \n7                                       -2.088450   \n\n   Nuclei_Texture_InverseDifferenceMoment_DNA_20_0  \\\n1                                         1.247290   \n2                                         2.105690   \n4                                         1.549610   \n5                                         1.696820   \n7                                         0.032824   \n\n   Nuclei_Texture_InverseDifferenceMoment_ER_5_0  \\\n1                                      -0.641374   \n2                                      -5.430540   \n4                                      -2.995770   \n5                                      -0.806278   \n7                                      -0.212402   \n\n   Nuclei_Texture_InverseDifferenceMoment_Mito_5_0  \\\n1                                         1.514300   \n2                                        -5.802180   \n4                                        -0.943642   \n5                                         1.045140   \n7                                         0.350726   \n\n   Nuclei_Texture_InverseDifferenceMoment_RNA_10_0  \\\n1                                        -0.361908   \n2                                         0.029379   \n4                                        -0.593867   \n5                                        -0.333954   \n7                                         1.554940   \n\n   Nuclei_Texture_SumAverage_RNA_20_0  Nuclei_Texture_SumEntropy_DNA_10_0  \\\n1                           -0.160391                           -0.928242   \n2                           -1.601920                           -1.625970   \n4                           -0.145932                           -1.248330   \n5                            0.674326                           -0.819150   \n7                           -0.151872                            0.529546   \n\n   Nuclei_Texture_SumEntropy_DNA_20_0  \n1                           -0.681633  \n2                           -1.032820  \n4                           -0.634703  \n5                           -0.449688  \n7                            0.594847  \n\n[5 rows x 392 columns]",
      "text/html": "<div>\n<style scoped>\n    .dataframe tbody tr th:only-of-type {\n        vertical-align: middle;\n    }\n\n    .dataframe tbody tr th {\n        vertical-align: top;\n    }\n\n    .dataframe thead th {\n        text-align: right;\n    }\n</style>\n<table border=\"1\" class=\"dataframe\">\n  <thead>\n    <tr style=\"text-align: right;\">\n      <th></th>\n      <th>Metadata_Plate_Map_Name</th>\n      <th>Metadata_cell_id</th>\n      <th>Metadata_broad_sample</th>\n      <th>Metadata_pert_well</th>\n      <th>Metadata_mmoles_per_liter</th>\n      <th>Metadata_dose_recode</th>\n      <th>Metadata_time_point</th>\n      <th>Metadata_moa</th>\n      <th>Metadata_target</th>\n      <th>Cells_AreaShape_FormFactor</th>\n      <th>...</th>\n      <th>Nuclei_Texture_InfoMeas2_RNA_10_0</th>\n      <th>Nuclei_Texture_InfoMeas2_RNA_20_0</th>\n      <th>Nuclei_Texture_InverseDifferenceMoment_AGP_5_0</th>\n      <th>Nuclei_Texture_InverseDifferenceMoment_DNA_20_0</th>\n      <th>Nuclei_Texture_InverseDifferenceMoment_ER_5_0</th>\n      <th>Nuclei_Texture_InverseDifferenceMoment_Mito_5_0</th>\n      <th>Nuclei_Texture_InverseDifferenceMoment_RNA_10_0</th>\n      <th>Nuclei_Texture_SumAverage_RNA_20_0</th>\n      <th>Nuclei_Texture_SumEntropy_DNA_10_0</th>\n      <th>Nuclei_Texture_SumEntropy_DNA_20_0</th>\n    </tr>\n  </thead>\n  <tbody>\n    <tr>\n      <th>1</th>\n      <td>C-7161-01-LM6-001</td>\n      <td>A549</td>\n      <td>BRD-A26032986-050-02-1</td>\n      <td>C13</td>\n      <td>10.0</td>\n      <td>6</td>\n      <td>48H</td>\n      <td>calmodulin antagonist</td>\n      <td>CALM1</td>\n      <td>-0.187122</td>\n      <td>...</td>\n      <td>-0.819698</td>\n      <td>-0.948205</td>\n      <td>0.033384</td>\n      <td>1.247290</td>\n      <td>-0.641374</td>\n      <td>1.514300</td>\n      <td>-0.361908</td>\n      <td>-0.160391</td>\n      <td>-0.928242</td>\n      <td>-0.681633</td>\n    </tr>\n    <tr>\n      <th>2</th>\n      <td>C-7161-01-LM6-001</td>\n      <td>A549</td>\n      <td>BRD-A26095496-001-04-0</td>\n      <td>D13</td>\n      <td>10.0</td>\n      <td>6</td>\n      <td>48H</td>\n      <td>glucocorticoid receptor agonist</td>\n      <td>NR3C1|PLA2G1B</td>\n      <td>-5.044600</td>\n      <td>...</td>\n      <td>-1.238960</td>\n      <td>-0.635335</td>\n      <td>-2.338720</td>\n      <td>2.105690</td>\n      <td>-5.430540</td>\n      <td>-5.802180</td>\n      <td>0.029379</td>\n      <td>-1.601920</td>\n      <td>-1.625970</td>\n      <td>-1.032820</td>\n    </tr>\n    <tr>\n      <th>4</th>\n      <td>C-7161-01-LM6-001</td>\n      <td>A549</td>\n      <td>BRD-A26690767-066-01-9</td>\n      <td>E13</td>\n      <td>10.0</td>\n      <td>6</td>\n      <td>48H</td>\n      <td>HIV protease inhibitor</td>\n      <td>CYP3A4</td>\n      <td>-0.416026</td>\n      <td>...</td>\n      <td>-1.566370</td>\n      <td>-1.608230</td>\n      <td>-0.868957</td>\n      <td>1.549610</td>\n      <td>-2.995770</td>\n      <td>-0.943642</td>\n      <td>-0.593867</td>\n      <td>-0.145932</td>\n      <td>-1.248330</td>\n      <td>-0.634703</td>\n    </tr>\n    <tr>\n      <th>5</th>\n      <td>C-7161-01-LM6-001</td>\n      <td>A549</td>\n      <td>BRD-A26711594-003-10-6</td>\n      <td>E19</td>\n      <td>10.0</td>\n      <td>6</td>\n      <td>48H</td>\n      <td>calcium channel blocker</td>\n      <td>ADORA3</td>\n      <td>-1.611640</td>\n      <td>...</td>\n      <td>-0.990629</td>\n      <td>-1.320840</td>\n      <td>0.637082</td>\n      <td>1.696820</td>\n      <td>-0.806278</td>\n      <td>1.045140</td>\n      <td>-0.333954</td>\n      <td>0.674326</td>\n      <td>-0.819150</td>\n      <td>-0.449688</td>\n    </tr>\n    <tr>\n      <th>7</th>\n      <td>C-7161-01-LM6-001</td>\n      <td>A549</td>\n      <td>BRD-A27732521-003-08-3</td>\n      <td>H01</td>\n      <td>10.0</td>\n      <td>6</td>\n      <td>48H</td>\n      <td>voltage-gated sodium channel blocker</td>\n      <td>CYP2C19|CYP2D6</td>\n      <td>-0.560182</td>\n      <td>...</td>\n      <td>0.892780</td>\n      <td>0.750292</td>\n      <td>-2.088450</td>\n      <td>0.032824</td>\n      <td>-0.212402</td>\n      <td>0.350726</td>\n      <td>1.554940</td>\n      <td>-0.151872</td>\n      <td>0.529546</td>\n      <td>0.594847</td>\n    </tr>\n  </tbody>\n</table>\n<p>5 rows × 392 columns</p>\n</div>"
     },
     "execution_count": 21,
     "metadata": {},
     "output_type": "execute_result"
    }
   ],
   "source": [
    "df = ds.clean_moas(df)\n",
    "df = ds.drop_feats(df, 30)\n",
    "features = infer_cp_features(df)\n",
    "meta_features = infer_cp_features(df, metadata=True)\n",
    "df.head()"
   ],
   "metadata": {
    "collapsed": false,
    "pycharm": {
     "name": "#%%\n"
    }
   }
  },
  {
   "cell_type": "code",
   "execution_count": 22,
   "outputs": [],
   "source": [
    "replicate_groups=['Metadata_moa']\n",
    "result = []\n",
    "p_range = np.arange(0.995, 0.96, -0.005)\n",
    "\n",
    "enrichment_result = evaluate(\n",
    "    profiles=df,\n",
    "    features=features,\n",
    "    meta_features=meta_features,\n",
    "    replicate_groups=replicate_groups,\n",
    "    operation=\"enrichment\",\n",
    "    similarity_metric=\"pearson\",\n",
    "    enrichment_percentile=p_range,\n",
    ")"
   ],
   "metadata": {
    "collapsed": false,
    "pycharm": {
     "name": "#%%\n"
    }
   }
  },
  {
   "cell_type": "code",
   "execution_count": 23,
   "outputs": [
    {
     "data": {
      "text/plain": "   enrichment_percentile  ods_ratio\n0                  0.995   9.137248\n1                  0.990   6.825632\n2                  0.985   5.842771\n3                  0.980   5.116222\n4                  0.975   4.635215\n5                  0.970   4.305253\n6                  0.965   4.022292\n7                  0.960   3.799090",
      "text/html": "<div>\n<style scoped>\n    .dataframe tbody tr th:only-of-type {\n        vertical-align: middle;\n    }\n\n    .dataframe tbody tr th {\n        vertical-align: top;\n    }\n\n    .dataframe thead th {\n        text-align: right;\n    }\n</style>\n<table border=\"1\" class=\"dataframe\">\n  <thead>\n    <tr style=\"text-align: right;\">\n      <th></th>\n      <th>enrichment_percentile</th>\n      <th>ods_ratio</th>\n    </tr>\n  </thead>\n  <tbody>\n    <tr>\n      <th>0</th>\n      <td>0.995</td>\n      <td>9.137248</td>\n    </tr>\n    <tr>\n      <th>1</th>\n      <td>0.990</td>\n      <td>6.825632</td>\n    </tr>\n    <tr>\n      <th>2</th>\n      <td>0.985</td>\n      <td>5.842771</td>\n    </tr>\n    <tr>\n      <th>3</th>\n      <td>0.980</td>\n      <td>5.116222</td>\n    </tr>\n    <tr>\n      <th>4</th>\n      <td>0.975</td>\n      <td>4.635215</td>\n    </tr>\n    <tr>\n      <th>5</th>\n      <td>0.970</td>\n      <td>4.305253</td>\n    </tr>\n    <tr>\n      <th>6</th>\n      <td>0.965</td>\n      <td>4.022292</td>\n    </tr>\n    <tr>\n      <th>7</th>\n      <td>0.960</td>\n      <td>3.799090</td>\n    </tr>\n  </tbody>\n</table>\n</div>"
     },
     "execution_count": 23,
     "metadata": {},
     "output_type": "execute_result"
    }
   ],
   "source": [
    "enrichment_result[[\"enrichment_percentile\",\"ods_ratio\"]]\n"
   ],
   "metadata": {
    "collapsed": false,
    "pycharm": {
     "name": "#%%\n"
    }
   }
  },
  {
   "cell_type": "code",
   "execution_count": 24,
   "outputs": [],
   "source": [
    "plt.rcParams.update({'font.size': 16})\n",
    "fig, ax = plt.subplots(figsize=(12,8))\n",
    "plt.title(\"Folds of Enrichment in Top Connections\")\n",
    "plt.plot(100*enrichment_result[\"enrichment_percentile\"], enrichment_result[\"ods_ratio\"], marker=\"o\", color=\"green\", label = 'cytominer baseline')\n",
    "plt.ylabel('ods ratio')\n",
    "plt.xlabel('percentile')\n",
    "ax.invert_xaxis()\n",
    "plt.legend(loc = 'upper right', shadow=True)\n",
    "plt.show()"
   ],
   "metadata": {
    "collapsed": false,
    "pycharm": {
     "name": "#%%\n"
    }
   }
  },
  {
   "cell_type": "code",
   "execution_count": null,
   "outputs": [],
   "source": [],
   "metadata": {
    "collapsed": false,
    "pycharm": {
     "name": "#%%\n"
    }
   }
  }
 ],
 "metadata": {
  "kernelspec": {
   "name": "pycharm-f57c4e3b",
   "language": "python",
   "display_name": "PyCharm (git)"
  },
  "language_info": {
   "codemirror_mode": {
    "name": "ipython",
    "version": 2
   },
   "file_extension": ".py",
   "mimetype": "text/x-python",
   "name": "python",
   "nbconvert_exporter": "python",
   "pygments_lexer": "ipython2",
   "version": "2.7.6"
  }
 },
 "nbformat": 4,
 "nbformat_minor": 0
}